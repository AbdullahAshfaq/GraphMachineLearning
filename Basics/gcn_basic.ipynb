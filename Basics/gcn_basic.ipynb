{
 "cells": [
  {
   "cell_type": "code",
   "execution_count": null,
   "metadata": {},
   "outputs": [],
   "source": []
  },
  {
   "cell_type": "code",
   "execution_count": null,
   "metadata": {},
   "outputs": [],
   "source": []
  },
  {
   "cell_type": "code",
   "execution_count": 2,
   "metadata": {},
   "outputs": [
    {
     "data": {
      "text/plain": [
       "HeteroData(\n",
       "  movie={ x=[9742, 404] },\n",
       "  user={ num_nodes=610 },\n",
       "  (user, rates, movie)={\n",
       "    edge_index=[2, 80670],\n",
       "    edge_label=[80670],\n",
       "    edge_label_index=[2, 80670],\n",
       "  },\n",
       "  (movie, rev_rates, user)={ edge_index=[2, 80670] }\n",
       ")"
      ]
     },
     "execution_count": 2,
     "metadata": {},
     "output_type": "execute_result"
    }
   ],
   "source": [
    "# loading dataset\n",
    "import torch\n",
    "\n",
    "train_data = torch.load('../data/movielens/train.pt')\n",
    "val_data = torch.load('../data/movielens/test.pt')\n",
    "test_data = torch.load('../data/movielens/val.pt')\n",
    "train_data"
   ]
  },
  {
   "cell_type": "code",
   "execution_count": 3,
   "metadata": {},
   "outputs": [],
   "source": [
    "# Note: Dataset comes with movies having 404 features\n",
    "# 20 genres + 384 length embedding of title"
   ]
  },
  {
   "cell_type": "code",
   "execution_count": 4,
   "metadata": {},
   "outputs": [
    {
     "ename": "NameError",
     "evalue": "name 'hidden_channels' is not defined",
     "output_type": "error",
     "traceback": [
      "\u001b[1;31m---------------------------------------------------------------------------\u001b[0m",
      "\u001b[1;31mNameError\u001b[0m                                 Traceback (most recent call last)",
      "\u001b[1;32mc:\\D_drive\\UCSD\\Projects\\GraphMachineLearning\\Basics\\gcn_basic.ipynb Cell 5\u001b[0m line \u001b[0;36m2\n\u001b[0;32m     <a href='vscode-notebook-cell:/c%3A/D_drive/UCSD/Projects/GraphMachineLearning/Basics/gcn_basic.ipynb#W0sZmlsZQ%3D%3D?line=22'>23</a>\u001b[0m         out \u001b[39m=\u001b[39m \u001b[39mself\u001b[39m\u001b[39m.\u001b[39mclassifier(h)\n\u001b[0;32m     <a href='vscode-notebook-cell:/c%3A/D_drive/UCSD/Projects/GraphMachineLearning/Basics/gcn_basic.ipynb#W0sZmlsZQ%3D%3D?line=24'>25</a>\u001b[0m         \u001b[39mreturn\u001b[39;00m out, h\n\u001b[1;32m---> <a href='vscode-notebook-cell:/c%3A/D_drive/UCSD/Projects/GraphMachineLearning/Basics/gcn_basic.ipynb#W0sZmlsZQ%3D%3D?line=26'>27</a>\u001b[0m model \u001b[39m=\u001b[39m GCN()\n\u001b[0;32m     <a href='vscode-notebook-cell:/c%3A/D_drive/UCSD/Projects/GraphMachineLearning/Basics/gcn_basic.ipynb#W0sZmlsZQ%3D%3D?line=27'>28</a>\u001b[0m \u001b[39mprint\u001b[39m(model)\n",
      "\u001b[1;32mc:\\D_drive\\UCSD\\Projects\\GraphMachineLearning\\Basics\\gcn_basic.ipynb Cell 5\u001b[0m line \u001b[0;36m8\n\u001b[0;32m      <a href='vscode-notebook-cell:/c%3A/D_drive/UCSD/Projects/GraphMachineLearning/Basics/gcn_basic.ipynb#W0sZmlsZQ%3D%3D?line=6'>7</a>\u001b[0m \u001b[39mdef\u001b[39;00m \u001b[39m__init__\u001b[39m(\u001b[39mself\u001b[39m):\n\u001b[1;32m----> <a href='vscode-notebook-cell:/c%3A/D_drive/UCSD/Projects/GraphMachineLearning/Basics/gcn_basic.ipynb#W0sZmlsZQ%3D%3D?line=7'>8</a>\u001b[0m     \u001b[39msuper\u001b[39m()\u001b[39m.\u001b[39m\u001b[39m__init__\u001b[39m(hidden_channels)\n\u001b[0;32m      <a href='vscode-notebook-cell:/c%3A/D_drive/UCSD/Projects/GraphMachineLearning/Basics/gcn_basic.ipynb#W0sZmlsZQ%3D%3D?line=8'>9</a>\u001b[0m     torch\u001b[39m.\u001b[39mmanual_seed(\u001b[39m1234\u001b[39m)\n\u001b[0;32m     <a href='vscode-notebook-cell:/c%3A/D_drive/UCSD/Projects/GraphMachineLearning/Basics/gcn_basic.ipynb#W0sZmlsZQ%3D%3D?line=9'>10</a>\u001b[0m     \u001b[39mself\u001b[39m\u001b[39m.\u001b[39mconv1 \u001b[39m=\u001b[39m GCNConv(hidden_channels, hidden_channels)\n",
      "\u001b[1;31mNameError\u001b[0m: name 'hidden_channels' is not defined"
     ]
    }
   ],
   "source": [
    "import torch\n",
    "from torch.nn import Linear\n",
    "from torch_geometric.nn import GCNConv\n",
    "\n",
    "\n",
    "class GCN(torch.nn.Module):\n",
    "    def __init__(self):\n",
    "        super().__init__(hidden_channels)\n",
    "        torch.manual_seed(1234)\n",
    "        self.conv1 = GCNConv(hidden_channels, hidden_channels)\n",
    "        self.conv2 = GCNConv(hidden_channels, hidden_channels)\n",
    "        self.conv3 = GCNConv(hidden_channels, hidden_channels)\n",
    "        \n",
    "    def forward(self, x, edge_index):\n",
    "        h = self.conv1(x, edge_index)\n",
    "        h = h.tanh()\n",
    "        h = self.conv2(h, edge_index)\n",
    "        h = h.tanh()\n",
    "        h = self.conv3(h, edge_index)\n",
    "        h = h.tanh()  # Final GNN embedding space.\n",
    "        \n",
    "        # Apply a final (linear) classifier.\n",
    "        out = self.classifier(h)\n",
    "\n",
    "        return out, h\n",
    "\n",
    "model = GCN()\n",
    "print(model)"
   ]
  },
  {
   "cell_type": "code",
   "execution_count": null,
   "metadata": {},
   "outputs": [],
   "source": []
  }
 ],
 "metadata": {
  "kernelspec": {
   "display_name": "Python 3 (ipykernel)",
   "language": "python",
   "name": "python3"
  },
  "language_info": {
   "codemirror_mode": {
    "name": "ipython",
    "version": 3
   },
   "file_extension": ".py",
   "mimetype": "text/x-python",
   "name": "python",
   "nbconvert_exporter": "python",
   "pygments_lexer": "ipython3",
   "version": "3.9.7"
  }
 },
 "nbformat": 4,
 "nbformat_minor": 2
}

{
 "cells": [
  {
   "cell_type": "markdown",
   "metadata": {
    "id": "bX_h0lnRYWjm"
   },
   "source": [
    "Credits: [Pytorch Geometric Tutorials](https://colab.research.google.com/drive/1xpzn1Nvai1ygd_P5Yambc_oe4VBPK_ZT?usp=sharing)"
   ]
  },
  {
   "cell_type": "code",
   "execution_count": 1,
   "metadata": {
    "colab": {
     "base_uri": "https://localhost:8080/"
    },
    "id": "cQ1WM7IPwi5g",
    "outputId": "79b0ada3-07f1-4194-8971-3c644255237e"
   },
   "outputs": [
    {
     "name": "stdout",
     "output_type": "stream",
     "text": [
      "1.11.0\n"
     ]
    }
   ],
   "source": [
    "import torch\n",
    "from torch import Tensor\n",
    "print(torch.__version__)"
   ]
  },
  {
   "cell_type": "code",
   "execution_count": 2,
   "metadata": {
    "colab": {
     "base_uri": "https://localhost:8080/"
    },
    "id": "Hl8dd2mSwc8L",
    "outputId": "fe5c831f-b8aa-46f5-e271-a5e6dcb171f4"
   },
   "outputs": [
    {
     "name": "stdout",
     "output_type": "stream",
     "text": [
      "Looking in links: https://data.pyg.org/whl/torch-${TORCH}.html\n",
      "Collecting torch-scatter\n",
      "  Downloading torch_scatter-2.1.2.tar.gz (108 kB)\n",
      "     ------------------------------------ 108.0/108.0 kB 231.8 kB/s eta 0:00:00\n",
      "  Preparing metadata (setup.py): started\n",
      "  Preparing metadata (setup.py): finished with status 'done'\n",
      "Building wheels for collected packages: torch-scatter\n",
      "  Building wheel for torch-scatter (setup.py): started\n",
      "  Building wheel for torch-scatter (setup.py): finished with status 'error'\n",
      "  Running setup.py clean for torch-scatter\n",
      "Failed to build torch-scatter\n",
      "Installing collected packages: torch-scatter\n",
      "  Running setup.py install for torch-scatter: started\n",
      "  Running setup.py install for torch-scatter: finished with status 'error'\n"
     ]
    },
    {
     "name": "stderr",
     "output_type": "stream",
     "text": [
      "WARNING: Ignoring invalid distribution -upyter-client (d:\\anaconda\\envs\\deeplearning\\lib\\site-packages)\n",
      "WARNING: Ignoring invalid distribution -upyter-client (d:\\anaconda\\envs\\deeplearning\\lib\\site-packages)\n",
      "  error: subprocess-exited-with-error\n",
      "  \n",
      "  python setup.py bdist_wheel did not run successfully.\n",
      "  exit code: 1\n",
      "  \n",
      "  [39 lines of output]\n",
      "  No CUDA runtime is found, using CUDA_HOME='C:\\Program Files\\NVIDIA GPU Computing Toolkit\\CUDA\\v11.6'\n",
      "  running bdist_wheel\n",
      "  running build\n",
      "  running build_py\n",
      "  creating build\n",
      "  creating build\\lib.win-amd64-3.9\n",
      "  creating build\\lib.win-amd64-3.9\\torch_scatter\n",
      "  copying torch_scatter\\placeholder.py -> build\\lib.win-amd64-3.9\\torch_scatter\n",
      "  copying torch_scatter\\scatter.py -> build\\lib.win-amd64-3.9\\torch_scatter\n",
      "  copying torch_scatter\\segment_coo.py -> build\\lib.win-amd64-3.9\\torch_scatter\n",
      "  copying torch_scatter\\segment_csr.py -> build\\lib.win-amd64-3.9\\torch_scatter\n",
      "  copying torch_scatter\\testing.py -> build\\lib.win-amd64-3.9\\torch_scatter\n",
      "  copying torch_scatter\\utils.py -> build\\lib.win-amd64-3.9\\torch_scatter\n",
      "  copying torch_scatter\\__init__.py -> build\\lib.win-amd64-3.9\\torch_scatter\n",
      "  creating build\\lib.win-amd64-3.9\\torch_scatter\\composite\n",
      "  copying torch_scatter\\composite\\logsumexp.py -> build\\lib.win-amd64-3.9\\torch_scatter\\composite\n",
      "  copying torch_scatter\\composite\\softmax.py -> build\\lib.win-amd64-3.9\\torch_scatter\\composite\n",
      "  copying torch_scatter\\composite\\std.py -> build\\lib.win-amd64-3.9\\torch_scatter\\composite\n",
      "  copying torch_scatter\\composite\\__init__.py -> build\\lib.win-amd64-3.9\\torch_scatter\\composite\n",
      "  running egg_info\n",
      "  writing torch_scatter.egg-info\\PKG-INFO\n",
      "  writing dependency_links to torch_scatter.egg-info\\dependency_links.txt\n",
      "  writing requirements to torch_scatter.egg-info\\requires.txt\n",
      "  writing top-level names to torch_scatter.egg-info\\top_level.txt\n",
      "  reading manifest file 'torch_scatter.egg-info\\SOURCES.txt'\n",
      "  reading manifest template 'MANIFEST.in'\n",
      "  warning: no previously-included files matching '*' found under directory 'test'\n",
      "  adding license file 'LICENSE'\n",
      "  writing manifest file 'torch_scatter.egg-info\\SOURCES.txt'\n",
      "  running build_ext\n",
      "  D:\\Anaconda\\envs\\deeplearning\\lib\\site-packages\\torch\\utils\\cpp_extension.py:322: UserWarning: Error checking compiler version for cl: [WinError 2] The system cannot find the file specified\n",
      "    warnings.warn(f'Error checking compiler version for {compiler}: {error}')\n",
      "  building 'torch_scatter._scatter_cpu' extension\n",
      "  error: Microsoft Visual C++ 14.0 or greater is required. Get it with \"Microsoft C++ Build Tools\": https://visualstudio.microsoft.com/visual-cpp-build-tools/\n",
      "  Error in atexit._run_exitfuncs:\n",
      "  Traceback (most recent call last):\n",
      "    File \"D:\\Anaconda\\envs\\deeplearning\\lib\\site-packages\\colorama\\ansitowin32.py\", line 59, in closed\n",
      "      return stream.closed\n",
      "  ValueError: underlying buffer has been detached\n",
      "  [end of output]\n",
      "  \n",
      "  note: This error originates from a subprocess, and is likely not a problem with pip.\n",
      "  ERROR: Failed building wheel for torch-scatter\n",
      "WARNING: Ignoring invalid distribution -upyter-client (d:\\anaconda\\envs\\deeplearning\\lib\\site-packages)\n",
      "  error: subprocess-exited-with-error\n",
      "  \n",
      "  Running setup.py install for torch-scatter did not run successfully.\n",
      "  exit code: 1\n",
      "  \n",
      "  [39 lines of output]\n",
      "  No CUDA runtime is found, using CUDA_HOME='C:\\Program Files\\NVIDIA GPU Computing Toolkit\\CUDA\\v11.6'\n",
      "  running install\n",
      "  running build\n",
      "  running build_py\n",
      "  creating build\n",
      "  creating build\\lib.win-amd64-3.9\n",
      "  creating build\\lib.win-amd64-3.9\\torch_scatter\n",
      "  copying torch_scatter\\placeholder.py -> build\\lib.win-amd64-3.9\\torch_scatter\n",
      "  copying torch_scatter\\scatter.py -> build\\lib.win-amd64-3.9\\torch_scatter\n",
      "  copying torch_scatter\\segment_coo.py -> build\\lib.win-amd64-3.9\\torch_scatter\n",
      "  copying torch_scatter\\segment_csr.py -> build\\lib.win-amd64-3.9\\torch_scatter\n",
      "  copying torch_scatter\\testing.py -> build\\lib.win-amd64-3.9\\torch_scatter\n",
      "  copying torch_scatter\\utils.py -> build\\lib.win-amd64-3.9\\torch_scatter\n",
      "  copying torch_scatter\\__init__.py -> build\\lib.win-amd64-3.9\\torch_scatter\n",
      "  creating build\\lib.win-amd64-3.9\\torch_scatter\\composite\n",
      "  copying torch_scatter\\composite\\logsumexp.py -> build\\lib.win-amd64-3.9\\torch_scatter\\composite\n",
      "  copying torch_scatter\\composite\\softmax.py -> build\\lib.win-amd64-3.9\\torch_scatter\\composite\n",
      "  copying torch_scatter\\composite\\std.py -> build\\lib.win-amd64-3.9\\torch_scatter\\composite\n",
      "  copying torch_scatter\\composite\\__init__.py -> build\\lib.win-amd64-3.9\\torch_scatter\\composite\n",
      "  running egg_info\n",
      "  writing torch_scatter.egg-info\\PKG-INFO\n",
      "  writing dependency_links to torch_scatter.egg-info\\dependency_links.txt\n",
      "  writing requirements to torch_scatter.egg-info\\requires.txt\n",
      "  writing top-level names to torch_scatter.egg-info\\top_level.txt\n",
      "  reading manifest file 'torch_scatter.egg-info\\SOURCES.txt'\n",
      "  reading manifest template 'MANIFEST.in'\n",
      "  warning: no previously-included files matching '*' found under directory 'test'\n",
      "  adding license file 'LICENSE'\n",
      "  writing manifest file 'torch_scatter.egg-info\\SOURCES.txt'\n",
      "  running build_ext\n",
      "  D:\\Anaconda\\envs\\deeplearning\\lib\\site-packages\\torch\\utils\\cpp_extension.py:322: UserWarning: Error checking compiler version for cl: [WinError 2] The system cannot find the file specified\n",
      "    warnings.warn(f'Error checking compiler version for {compiler}: {error}')\n",
      "  building 'torch_scatter._scatter_cpu' extension\n",
      "  error: Microsoft Visual C++ 14.0 or greater is required. Get it with \"Microsoft C++ Build Tools\": https://visualstudio.microsoft.com/visual-cpp-build-tools/\n",
      "  Error in atexit._run_exitfuncs:\n",
      "  Traceback (most recent call last):\n",
      "    File \"D:\\Anaconda\\envs\\deeplearning\\lib\\site-packages\\colorama\\ansitowin32.py\", line 59, in closed\n",
      "      return stream.closed\n",
      "  ValueError: underlying buffer has been detached\n",
      "  [end of output]\n",
      "  \n",
      "  note: This error originates from a subprocess, and is likely not a problem with pip.\n",
      "error: legacy-install-failure\n",
      "\n",
      "Encountered error while trying to install package.\n",
      "\n",
      "torch-scatter\n",
      "\n",
      "note: This is an issue with the package mentioned above, not pip.\n",
      "hint: See above for output from the failure.\n",
      "WARNING: Ignoring invalid distribution -upyter-client (d:\\anaconda\\envs\\deeplearning\\lib\\site-packages)\n",
      "WARNING: Ignoring invalid distribution -upyter-client (d:\\anaconda\\envs\\deeplearning\\lib\\site-packages)\n",
      "WARNING: Ignoring invalid distribution -upyter-client (d:\\anaconda\\envs\\deeplearning\\lib\\site-packages)\n",
      "\n",
      "[notice] A new release of pip available: 22.3.1 -> 23.3.1\n",
      "[notice] To update, run: python.exe -m pip install --upgrade pip\n"
     ]
    },
    {
     "name": "stdout",
     "output_type": "stream",
     "text": [
      "Looking in links: https://data.pyg.org/whl/torch-${TORCH}.html"
     ]
    },
    {
     "name": "stderr",
     "output_type": "stream",
     "text": [
      "WARNING: Ignoring invalid distribution -upyter-client (d:\\anaconda\\envs\\deeplearning\\lib\\site-packages)\n",
      "WARNING: Ignoring invalid distribution -upyter-client (d:\\anaconda\\envs\\deeplearning\\lib\\site-packages)\n",
      "  error: subprocess-exited-with-error\n",
      "  \n",
      "  python setup.py bdist_wheel did not run successfully.\n",
      "  exit code: 1\n",
      "  \n",
      "  [64 lines of output]\n",
      "  No CUDA runtime is found, using CUDA_HOME='C:\\Program Files\\NVIDIA GPU Computing Toolkit\\CUDA\\v11.6'\n",
      "  running bdist_wheel\n",
      "  D:\\Anaconda\\envs\\deeplearning\\lib\\site-packages\\torch\\utils\\cpp_extension.py:387: UserWarning: Attempted to use ninja as the BuildExtension backend but we could not find ninja.. Falling back to using the slow distutils backend.\n",
      "    warnings.warn(msg.format('we could not find ninja.'))\n",
      "  running build\n",
      "  running build_py\n",
      "  creating build\n",
      "  creating build\\lib.win-amd64-3.9\n",
      "  creating build\\lib.win-amd64-3.9\\torch_sparse\n",
      "  copying torch_sparse\\add.py -> build\\lib.win-amd64-3.9\\torch_sparse\n",
      "  copying torch_sparse\\bandwidth.py -> build\\lib.win-amd64-3.9\\torch_sparse\n",
      "  copying torch_sparse\\cat.py -> build\\lib.win-amd64-3.9\\torch_sparse\n",
      "  copying torch_sparse\\coalesce.py -> build\\lib.win-amd64-3.9\\torch_sparse\n",
      "  copying torch_sparse\\convert.py -> build\\lib.win-amd64-3.9\\torch_sparse\n",
      "  copying torch_sparse\\diag.py -> build\\lib.win-amd64-3.9\\torch_sparse\n",
      "  copying torch_sparse\\eye.py -> build\\lib.win-amd64-3.9\\torch_sparse\n",
      "  copying torch_sparse\\index_select.py -> build\\lib.win-amd64-3.9\\torch_sparse\n",
      "  copying torch_sparse\\masked_select.py -> build\\lib.win-amd64-3.9\\torch_sparse\n",
      "  copying torch_sparse\\matmul.py -> build\\lib.win-amd64-3.9\\torch_sparse\n",
      "  copying torch_sparse\\metis.py -> build\\lib.win-amd64-3.9\\torch_sparse\n",
      "  copying torch_sparse\\mul.py -> build\\lib.win-amd64-3.9\\torch_sparse\n",
      "  copying torch_sparse\\narrow.py -> build\\lib.win-amd64-3.9\\torch_sparse\n",
      "  copying torch_sparse\\permute.py -> build\\lib.win-amd64-3.9\\torch_sparse\n",
      "  copying torch_sparse\\reduce.py -> build\\lib.win-amd64-3.9\\torch_sparse\n",
      "  copying torch_sparse\\rw.py -> build\\lib.win-amd64-3.9\\torch_sparse\n",
      "  copying torch_sparse\\saint.py -> build\\lib.win-amd64-3.9\\torch_sparse\n",
      "  copying torch_sparse\\sample.py -> build\\lib.win-amd64-3.9\\torch_sparse\n",
      "  copying torch_sparse\\select.py -> build\\lib.win-amd64-3.9\\torch_sparse\n",
      "  copying torch_sparse\\spadd.py -> build\\lib.win-amd64-3.9\\torch_sparse\n",
      "  copying torch_sparse\\spmm.py -> build\\lib.win-amd64-3.9\\torch_sparse\n",
      "  copying torch_sparse\\spspmm.py -> build\\lib.win-amd64-3.9\\torch_sparse\n",
      "  copying torch_sparse\\storage.py -> build\\lib.win-amd64-3.9\\torch_sparse\n",
      "  copying torch_sparse\\tensor.py -> build\\lib.win-amd64-3.9\\torch_sparse\n",
      "  copying torch_sparse\\testing.py -> build\\lib.win-amd64-3.9\\torch_sparse\n",
      "  copying torch_sparse\\transpose.py -> build\\lib.win-amd64-3.9\\torch_sparse\n",
      "  copying torch_sparse\\typing.py -> build\\lib.win-amd64-3.9\\torch_sparse\n",
      "  copying torch_sparse\\utils.py -> build\\lib.win-amd64-3.9\\torch_sparse\n",
      "  copying torch_sparse\\__init__.py -> build\\lib.win-amd64-3.9\\torch_sparse\n",
      "  running egg_info\n",
      "  writing torch_sparse.egg-info\\PKG-INFO\n",
      "  writing dependency_links to torch_sparse.egg-info\\dependency_links.txt\n",
      "  writing requirements to torch_sparse.egg-info\\requires.txt\n",
      "  writing top-level names to torch_sparse.egg-info\\top_level.txt\n",
      "  reading manifest file 'torch_sparse.egg-info\\SOURCES.txt'\n",
      "  reading manifest template 'MANIFEST.in'\n",
      "  warning: no previously-included files matching '*' found under directory 'third_party\\parallel-hashmap\\css'\n",
      "  warning: no previously-included files matching '*' found under directory 'third_party\\parallel-hashmap\\html'\n",
      "  warning: no previously-included files matching '*' found under directory 'third_party\\parallel-hashmap\\tests'\n",
      "  warning: no previously-included files matching '*' found under directory 'third_party\\parallel-hashmap\\examples'\n",
      "  warning: no previously-included files matching '*' found under directory 'third_party\\parallel-hashmap\\benchmark'\n",
      "  warning: no previously-included files matching '*' found under directory 'test'\n",
      "  warning: no previously-included files matching '*' found under directory 'benchmark'\n",
      "  adding license file 'LICENSE'\n",
      "  writing manifest file 'torch_sparse.egg-info\\SOURCES.txt'\n",
      "  running build_ext\n",
      "  D:\\Anaconda\\envs\\deeplearning\\lib\\site-packages\\torch\\utils\\cpp_extension.py:322: UserWarning: Error checking compiler version for cl: [WinError 2] The system cannot find the file specified\n",
      "    warnings.warn(f'Error checking compiler version for {compiler}: {error}')\n",
      "  building 'torch_sparse._convert_cpu' extension\n",
      "  error: Microsoft Visual C++ 14.0 or greater is required. Get it with \"Microsoft C++ Build Tools\": https://visualstudio.microsoft.com/visual-cpp-build-tools/\n",
      "  Error in atexit._run_exitfuncs:\n",
      "  Traceback (most recent call last):\n",
      "    File \"D:\\Anaconda\\envs\\deeplearning\\lib\\site-packages\\colorama\\ansitowin32.py\", line 59, in closed\n",
      "      return stream.closed\n",
      "  ValueError: underlying buffer has been detached\n",
      "  [end of output]\n",
      "  \n",
      "  note: This error originates from a subprocess, and is likely not a problem with pip.\n",
      "  ERROR: Failed building wheel for torch-sparse\n",
      "WARNING: Ignoring invalid distribution -upyter-client (d:\\anaconda\\envs\\deeplearning\\lib\\site-packages)\n",
      "  error: subprocess-exited-with-error\n",
      "  \n",
      "  Running setup.py install for torch-sparse did not run successfully.\n",
      "  exit code: 1\n",
      "  \n",
      "  [64 lines of output]\n",
      "  No CUDA runtime is found, using CUDA_HOME='C:\\Program Files\\NVIDIA GPU Computing Toolkit\\CUDA\\v11.6'\n",
      "  running install\n",
      "  running build\n",
      "  running build_py\n",
      "  creating build\n",
      "  creating build\\lib.win-amd64-3.9\n",
      "  creating build\\lib.win-amd64-3.9\\torch_sparse\n",
      "  copying torch_sparse\\add.py -> build\\lib.win-amd64-3.9\\torch_sparse\n",
      "  copying torch_sparse\\bandwidth.py -> build\\lib.win-amd64-3.9\\torch_sparse\n",
      "  copying torch_sparse\\cat.py -> build\\lib.win-amd64-3.9\\torch_sparse\n",
      "  copying torch_sparse\\coalesce.py -> build\\lib.win-amd64-3.9\\torch_sparse\n",
      "  copying torch_sparse\\convert.py -> build\\lib.win-amd64-3.9\\torch_sparse\n",
      "  copying torch_sparse\\diag.py -> build\\lib.win-amd64-3.9\\torch_sparse\n",
      "  copying torch_sparse\\eye.py -> build\\lib.win-amd64-3.9\\torch_sparse\n",
      "  copying torch_sparse\\index_select.py -> build\\lib.win-amd64-3.9\\torch_sparse\n",
      "  copying torch_sparse\\masked_select.py -> build\\lib.win-amd64-3.9\\torch_sparse\n",
      "  copying torch_sparse\\matmul.py -> build\\lib.win-amd64-3.9\\torch_sparse\n",
      "  copying torch_sparse\\metis.py -> build\\lib.win-amd64-3.9\\torch_sparse\n",
      "  copying torch_sparse\\mul.py -> build\\lib.win-amd64-3.9\\torch_sparse\n",
      "  copying torch_sparse\\narrow.py -> build\\lib.win-amd64-3.9\\torch_sparse\n",
      "  copying torch_sparse\\permute.py -> build\\lib.win-amd64-3.9\\torch_sparse\n",
      "  copying torch_sparse\\reduce.py -> build\\lib.win-amd64-3.9\\torch_sparse\n",
      "  copying torch_sparse\\rw.py -> build\\lib.win-amd64-3.9\\torch_sparse\n",
      "  copying torch_sparse\\saint.py -> build\\lib.win-amd64-3.9\\torch_sparse\n",
      "  copying torch_sparse\\sample.py -> build\\lib.win-amd64-3.9\\torch_sparse\n",
      "  copying torch_sparse\\select.py -> build\\lib.win-amd64-3.9\\torch_sparse\n",
      "  copying torch_sparse\\spadd.py -> build\\lib.win-amd64-3.9\\torch_sparse\n",
      "  copying torch_sparse\\spmm.py -> build\\lib.win-amd64-3.9\\torch_sparse\n",
      "  copying torch_sparse\\spspmm.py -> build\\lib.win-amd64-3.9\\torch_sparse\n",
      "  copying torch_sparse\\storage.py -> build\\lib.win-amd64-3.9\\torch_sparse\n",
      "  copying torch_sparse\\tensor.py -> build\\lib.win-amd64-3.9\\torch_sparse\n",
      "  copying torch_sparse\\testing.py -> build\\lib.win-amd64-3.9\\torch_sparse\n",
      "  copying torch_sparse\\transpose.py -> build\\lib.win-amd64-3.9\\torch_sparse\n",
      "  copying torch_sparse\\typing.py -> build\\lib.win-amd64-3.9\\torch_sparse\n",
      "  copying torch_sparse\\utils.py -> build\\lib.win-amd64-3.9\\torch_sparse\n",
      "  copying torch_sparse\\__init__.py -> build\\lib.win-amd64-3.9\\torch_sparse\n",
      "  running egg_info\n",
      "  writing torch_sparse.egg-info\\PKG-INFO\n",
      "  writing dependency_links to torch_sparse.egg-info\\dependency_links.txt\n",
      "  writing requirements to torch_sparse.egg-info\\requires.txt\n",
      "  writing top-level names to torch_sparse.egg-info\\top_level.txt\n",
      "  D:\\Anaconda\\envs\\deeplearning\\lib\\site-packages\\torch\\utils\\cpp_extension.py:387: UserWarning: Attempted to use ninja as the BuildExtension backend but we could not find ninja.. Falling back to using the slow distutils backend.\n",
      "    warnings.warn(msg.format('we could not find ninja.'))\n",
      "  reading manifest file 'torch_sparse.egg-info\\SOURCES.txt'\n",
      "  reading manifest template 'MANIFEST.in'\n",
      "  warning: no previously-included files matching '*' found under directory 'third_party\\parallel-hashmap\\css'\n",
      "  warning: no previously-included files matching '*' found under directory 'third_party\\parallel-hashmap\\html'\n",
      "  warning: no previously-included files matching '*' found under directory 'third_party\\parallel-hashmap\\tests'\n",
      "  warning: no previously-included files matching '*' found under directory 'third_party\\parallel-hashmap\\examples'\n",
      "  warning: no previously-included files matching '*' found under directory 'third_party\\parallel-hashmap\\benchmark'\n",
      "  warning: no previously-included files matching '*' found under directory 'test'\n",
      "  warning: no previously-included files matching '*' found under directory 'benchmark'\n",
      "  adding license file 'LICENSE'\n",
      "  writing manifest file 'torch_sparse.egg-info\\SOURCES.txt'\n",
      "  running build_ext\n",
      "  D:\\Anaconda\\envs\\deeplearning\\lib\\site-packages\\torch\\utils\\cpp_extension.py:322: UserWarning: Error checking compiler version for cl: [WinError 2] The system cannot find the file specified\n",
      "    warnings.warn(f'Error checking compiler version for {compiler}: {error}')\n",
      "  building 'torch_sparse._convert_cpu' extension\n",
      "  error: Microsoft Visual C++ 14.0 or greater is required. Get it with \"Microsoft C++ Build Tools\": https://visualstudio.microsoft.com/visual-cpp-build-tools/\n",
      "  Error in atexit._run_exitfuncs:\n",
      "  Traceback (most recent call last):\n",
      "    File \"D:\\Anaconda\\envs\\deeplearning\\lib\\site-packages\\colorama\\ansitowin32.py\", line 59, in closed\n",
      "      return stream.closed\n",
      "  ValueError: underlying buffer has been detached\n",
      "  [end of output]\n",
      "  \n",
      "  note: This error originates from a subprocess, and is likely not a problem with pip.\n",
      "error: legacy-install-failure\n",
      "\n",
      "Encountered error while trying to install package.\n",
      "\n",
      "torch-sparse\n",
      "\n",
      "note: This is an issue with the package mentioned above, not pip.\n",
      "hint: See above for output from the failure.\n",
      "WARNING: Ignoring invalid distribution -upyter-client (d:\\anaconda\\envs\\deeplearning\\lib\\site-packages)\n",
      "WARNING: Ignoring invalid distribution -upyter-client (d:\\anaconda\\envs\\deeplearning\\lib\\site-packages)\n",
      "WARNING: Ignoring invalid distribution -upyter-client (d:\\anaconda\\envs\\deeplearning\\lib\\site-packages)\n",
      "\n",
      "[notice] A new release of pip available: 22.3.1 -> 23.3.1\n",
      "[notice] To update, run: python.exe -m pip install --upgrade pip\n"
     ]
    },
    {
     "name": "stdout",
     "output_type": "stream",
     "text": [
      "\n",
      "Collecting torch-sparse\n",
      "  Downloading torch_sparse-0.6.18.tar.gz (209 kB)\n",
      "     ------------------------------------ 210.0/210.0 kB 387.8 kB/s eta 0:00:00\n",
      "  Preparing metadata (setup.py): started\n",
      "  Preparing metadata (setup.py): finished with status 'done'\n",
      "Requirement already satisfied: scipy in d:\\anaconda\\envs\\deeplearning\\lib\\site-packages (from torch-sparse) (1.11.4)\n",
      "Requirement already satisfied: numpy<1.28.0,>=1.21.6 in d:\\anaconda\\envs\\deeplearning\\lib\\site-packages (from scipy->torch-sparse) (1.26.2)\n",
      "Building wheels for collected packages: torch-sparse\n",
      "  Building wheel for torch-sparse (setup.py): started\n",
      "  Building wheel for torch-sparse (setup.py): finished with status 'error'\n",
      "  Running setup.py clean for torch-sparse\n",
      "Failed to build torch-sparse\n",
      "Installing collected packages: torch-sparse\n",
      "  Running setup.py install for torch-sparse: started\n",
      "  Running setup.py install for torch-sparse: finished with status 'error'\n",
      "Looking in links: https://data.pyg.org/whl/nightly/torch-${TORCH}.html\n"
     ]
    },
    {
     "name": "stderr",
     "output_type": "stream",
     "text": [
      "WARNING: Ignoring invalid distribution -upyter-client (d:\\anaconda\\envs\\deeplearning\\lib\\site-packages)\n",
      "WARNING: Ignoring invalid distribution -upyter-client (d:\\anaconda\\envs\\deeplearning\\lib\\site-packages)\n",
      "ERROR: Could not find a version that satisfies the requirement pyg-lib (from versions: none)\n",
      "ERROR: No matching distribution found for pyg-lib\n",
      "WARNING: Ignoring invalid distribution -upyter-client (d:\\anaconda\\envs\\deeplearning\\lib\\site-packages)\n",
      "WARNING: Ignoring invalid distribution -upyter-client (d:\\anaconda\\envs\\deeplearning\\lib\\site-packages)\n",
      "WARNING: Ignoring invalid distribution -upyter-client (d:\\anaconda\\envs\\deeplearning\\lib\\site-packages)\n",
      "\n",
      "[notice] A new release of pip available: 22.3.1 -> 23.3.1\n",
      "[notice] To update, run: python.exe -m pip install --upgrade pip\n"
     ]
    },
    {
     "name": "stdout",
     "output_type": "stream",
     "text": [
      "Collecting git+https://github.com/pyg-team/pytorch_geometric.git\n",
      "  Cloning https://github.com/pyg-team/pytorch_geometric.git to c:\\users\\admin\\appdata\\local\\temp\\pip-req-build-6zhrdfzu\n",
      "  Resolved https://github.com/pyg-team/pytorch_geometric.git to commit ed490ecedeb63974def564395d3f5a8f7675305d\n",
      "  Installing build dependencies: started\n",
      "  Installing build dependencies: finished with status 'done'\n",
      "  Getting requirements to build wheel: started\n",
      "  Getting requirements to build wheel: finished with status 'done'\n",
      "  Preparing metadata (pyproject.toml): started\n",
      "  Preparing metadata (pyproject.toml): finished with status 'done'\n",
      "Requirement already satisfied: numpy in d:\\anaconda\\envs\\deeplearning\\lib\\site-packages (from torch_geometric==2.4.0) (1.26.2)\n",
      "Requirement already satisfied: psutil>=5.8.0 in d:\\anaconda\\envs\\deeplearning\\lib\\site-packages (from torch_geometric==2.4.0) (5.9.3)\n",
      "Requirement already satisfied: aiohttp in d:\\anaconda\\envs\\deeplearning\\lib\\site-packages (from torch_geometric==2.4.0) (3.8.1)\n",
      "Requirement already satisfied: requests in d:\\anaconda\\envs\\deeplearning\\lib\\site-packages (from torch_geometric==2.4.0) (2.27.1)\n",
      "Requirement already satisfied: scikit-learn in d:\\anaconda\\envs\\deeplearning\\lib\\site-packages (from torch_geometric==2.4.0) (1.0.2)\n",
      "Requirement already satisfied: fsspec in d:\\anaconda\\envs\\deeplearning\\lib\\site-packages (from torch_geometric==2.4.0) (2023.1.0)\n",
      "Requirement already satisfied: scipy in d:\\anaconda\\envs\\deeplearning\\lib\\site-packages (from torch_geometric==2.4.0) (1.11.4)\n",
      "Requirement already satisfied: jinja2 in d:\\anaconda\\envs\\deeplearning\\lib\\site-packages (from torch_geometric==2.4.0) (3.1.2)\n",
      "Requirement already satisfied: tqdm in d:\\anaconda\\envs\\deeplearning\\lib\\site-packages (from torch_geometric==2.4.0) (4.64.0)\n",
      "Requirement already satisfied: pyparsing in d:\\anaconda\\envs\\deeplearning\\lib\\site-packages (from torch_geometric==2.4.0) (3.0.8)\n",
      "Requirement already satisfied: frozenlist>=1.1.1 in d:\\anaconda\\envs\\deeplearning\\lib\\site-packages (from aiohttp->torch_geometric==2.4.0) (1.2.0)\n",
      "Requirement already satisfied: multidict<7.0,>=4.5 in d:\\anaconda\\envs\\deeplearning\\lib\\site-packages (from aiohttp->torch_geometric==2.4.0) (5.1.0)\n",
      "Requirement already satisfied: charset-normalizer<3.0,>=2.0 in d:\\anaconda\\envs\\deeplearning\\lib\\site-packages (from aiohttp->torch_geometric==2.4.0) (2.0.4)\n",
      "Requirement already satisfied: aiosignal>=1.1.2 in d:\\anaconda\\envs\\deeplearning\\lib\\site-packages (from aiohttp->torch_geometric==2.4.0) (1.2.0)\n",
      "Requirement already satisfied: yarl<2.0,>=1.0 in d:\\anaconda\\envs\\deeplearning\\lib\\site-packages (from aiohttp->torch_geometric==2.4.0) (1.6.3)\n",
      "Requirement already satisfied: attrs>=17.3.0 in d:\\anaconda\\envs\\deeplearning\\lib\\site-packages (from aiohttp->torch_geometric==2.4.0) (21.4.0)\n",
      "Requirement already satisfied: async-timeout<5.0,>=4.0.0a3 in d:\\anaconda\\envs\\deeplearning\\lib\\site-packages (from aiohttp->torch_geometric==2.4.0) (4.0.1)\n",
      "Requirement already satisfied: MarkupSafe>=2.0 in d:\\anaconda\\envs\\deeplearning\\lib\\site-packages (from jinja2->torch_geometric==2.4.0) (2.1.1)\n",
      "Requirement already satisfied: urllib3<1.27,>=1.21.1 in d:\\anaconda\\envs\\deeplearning\\lib\\site-packages (from requests->torch_geometric==2.4.0) (1.26.8)\n",
      "Requirement already satisfied: idna<4,>=2.5 in d:\\anaconda\\envs\\deeplearning\\lib\\site-packages (from requests->torch_geometric==2.4.0) (3.3)\n",
      "Requirement already satisfied: certifi>=2017.4.17 in d:\\anaconda\\envs\\deeplearning\\lib\\site-packages (from requests->torch_geometric==2.4.0) (2022.9.24)\n",
      "Requirement already satisfied: joblib>=0.11 in d:\\anaconda\\envs\\deeplearning\\lib\\site-packages (from scikit-learn->torch_geometric==2.4.0) (1.1.0)\n",
      "Requirement already satisfied: threadpoolctl>=2.0.0 in d:\\anaconda\\envs\\deeplearning\\lib\\site-packages (from scikit-learn->torch_geometric==2.4.0) (2.2.0)\n",
      "Requirement already satisfied: colorama in d:\\anaconda\\envs\\deeplearning\\lib\\site-packages (from tqdm->torch_geometric==2.4.0) (0.4.4)\n",
      "Requirement already satisfied: typing-extensions>=3.6.5 in d:\\anaconda\\envs\\deeplearning\\lib\\site-packages (from async-timeout<5.0,>=4.0.0a3->aiohttp->torch_geometric==2.4.0) (4.5.0)\n"
     ]
    },
    {
     "name": "stderr",
     "output_type": "stream",
     "text": [
      "WARNING: Ignoring invalid distribution -upyter-client (d:\\anaconda\\envs\\deeplearning\\lib\\site-packages)\n",
      "WARNING: Ignoring invalid distribution -upyter-client (d:\\anaconda\\envs\\deeplearning\\lib\\site-packages)\n",
      "  Running command git clone --filter=blob:none --quiet https://github.com/pyg-team/pytorch_geometric.git 'C:\\Users\\admin\\AppData\\Local\\Temp\\pip-req-build-6zhrdfzu'\n",
      "WARNING: Ignoring invalid distribution -upyter-client (d:\\anaconda\\envs\\deeplearning\\lib\\site-packages)\n",
      "WARNING: Ignoring invalid distribution -upyter-client (d:\\anaconda\\envs\\deeplearning\\lib\\site-packages)\n",
      "WARNING: Ignoring invalid distribution -upyter-client (d:\\anaconda\\envs\\deeplearning\\lib\\site-packages)\n",
      "WARNING: Ignoring invalid distribution -upyter-client (d:\\anaconda\\envs\\deeplearning\\lib\\site-packages)\n",
      "\n",
      "[notice] A new release of pip available: 22.3.1 -> 23.3.1\n",
      "[notice] To update, run: python.exe -m pip install --upgrade pip\n"
     ]
    }
   ],
   "source": [
    "# Install required packages.\n",
    "import os\n",
    "os.environ['TORCH'] = torch.__version__\n",
    "\n",
    "!pip install torch-scatter -f https://data.pyg.org/whl/torch-${TORCH}.html\n",
    "!pip install torch-sparse -f https://data.pyg.org/whl/torch-${TORCH}.html\n",
    "!pip install pyg-lib -f https://data.pyg.org/whl/nightly/torch-${TORCH}.html\n",
    "!pip install git+https://github.com/pyg-team/pytorch_geometric.git"
   ]
  },
  {
   "cell_type": "markdown",
   "metadata": {
    "id": "hCIxarfJYWjo"
   },
   "source": [
    "### Loading datasets <br>\n",
    "They are already split into train, test, validation sets during preprocessing."
   ]
  },
  {
   "cell_type": "code",
   "execution_count": 3,
   "metadata": {
    "id": "QShtQxh-Yvdj"
   },
   "outputs": [],
   "source": [
    "# Upload data folder from github to ./data/movielens/train.pt"
   ]
  },
  {
   "cell_type": "code",
   "execution_count": 4,
   "metadata": {
    "colab": {
     "base_uri": "https://localhost:8080/"
    },
    "id": "wZ3n5yKBYWjp",
    "outputId": "8dc16f29-b2c2-4466-af01-c8262a04d049"
   },
   "outputs": [
    {
     "data": {
      "text/plain": [
       "(HeteroData(\n",
       "   movie={ x=[9742, 404] },\n",
       "   user={ num_nodes=610 },\n",
       "   (user, rates, movie)={\n",
       "     edge_index=[2, 56469],\n",
       "     edge_label=[24201],\n",
       "     edge_label_index=[2, 24201],\n",
       "   },\n",
       "   (movie, rev_rates, user)={ edge_index=[2, 56469] }\n",
       " ),\n",
       " HeteroData(\n",
       "   movie={ x=[9742, 404] },\n",
       "   user={ num_nodes=610 },\n",
       "   (user, rates, movie)={\n",
       "     edge_index=[2, 80670],\n",
       "     edge_label=[30249],\n",
       "     edge_label_index=[2, 30249],\n",
       "   },\n",
       "   (movie, rev_rates, user)={ edge_index=[2, 80670] }\n",
       " ),\n",
       " HeteroData(\n",
       "   movie={ x=[9742, 404] },\n",
       "   user={ num_nodes=610 },\n",
       "   (user, rates, movie)={\n",
       "     edge_index=[2, 90753],\n",
       "     edge_label=[30249],\n",
       "     edge_label_index=[2, 30249],\n",
       "   },\n",
       "   (movie, rev_rates, user)={ edge_index=[2, 90753] }\n",
       " ))"
      ]
     },
     "execution_count": 4,
     "metadata": {},
     "output_type": "execute_result"
    }
   ],
   "source": [
    "# loading dataset\n",
    "import torch\n",
    "from torch_geometric.data import HeteroData\n",
    "from torch import Tensor\n",
    "\n",
    "train_data = torch.load('./data/movielens/train.pt')\n",
    "val_data = torch.load('./data/movielens/test.pt')\n",
    "test_data = torch.load('./data/movielens/val.pt')\n",
    "train_data,val_data,test_data"
   ]
  },
  {
   "cell_type": "code",
   "execution_count": 5,
   "metadata": {
    "colab": {
     "base_uri": "https://localhost:8080/"
    },
    "id": "GFSuAs7pYWjq",
    "outputId": "37b6c45f-727b-4932-d744-76fb998ef03b"
   },
   "outputs": [
    {
     "data": {
      "text/plain": [
       "10352"
      ]
     },
     "execution_count": 5,
     "metadata": {},
     "output_type": "execute_result"
    }
   ],
   "source": [
    "train_data.num_nodes"
   ]
  },
  {
   "cell_type": "code",
   "execution_count": null,
   "metadata": {
    "id": "QnyNg4niYklI"
   },
   "outputs": [],
   "source": []
  },
  {
   "cell_type": "markdown",
   "metadata": {
    "id": "bUkcWNAOYWjq"
   },
   "source": [
    "## Batching\n",
    "It is difficult to store large graphs in memory so we need to create subgraphs. We can use LinkNeighborLoader to sample graphs and we can spedify that we want 'n' hops and at each hop, sample 'i' neighbors"
   ]
  },
  {
   "cell_type": "code",
   "execution_count": 6,
   "metadata": {
    "id": "yZkTcoabYWjq"
   },
   "outputs": [],
   "source": [
    "from torch_geometric.loader import LinkNeighborLoader\n",
    "\n",
    "# Define seed edges: Which edges to start sampling from.\n",
    "# In train, it can start at any point but in test and val, it is smaller\n",
    "edge_label_index = train_data[\"user\", \"rates\", \"movie\"].edge_label_index\n",
    "edge_label = train_data[\"user\", \"rates\", \"movie\"].edge_label\n",
    "\n",
    "train_loader = LinkNeighborLoader(\n",
    "    data=train_data,  #\n",
    "    num_neighbors=[30,20],  # This list size is number of hops. It means sample 30 neighbors at 1st hop and 20 at 2nd hop\n",
    "    neg_sampling_ratio=2.0,\n",
    "    edge_label_index=((\"user\", \"rates\", \"movie\"), edge_label_index),\n",
    "    edge_label=edge_label,\n",
    "    batch_size=128,\n",
    "    shuffle=True,\n",
    ")\n"
   ]
  },
  {
   "cell_type": "markdown",
   "metadata": {
    "id": "EK-YieqeYWjr"
   },
   "source": [
    "## Model Definition\n",
    "\n",
    "Lets define a graph neural network. There are multiple possible layer types but we will use nn.SAGEConv initially. As there are 2 types of nodes in graph, we will need to convert model to hetegenous also."
   ]
  },
  {
   "cell_type": "code",
   "execution_count": 15,
   "metadata": {
    "colab": {
     "base_uri": "https://localhost:8080/"
    },
    "id": "NTh_HruRYWjr",
    "outputId": "2177418b-03be-457d-9f35-ca75b437702c"
   },
   "outputs": [
    {
     "name": "stdout",
     "output_type": "stream",
     "text": [
      "Model(\n",
      "  (movie_lin): Linear(in_features=404, out_features=64, bias=True)\n",
      "  (user_emb): Embedding(610, 64)\n",
      "  (movie_emb): Embedding(9742, 64)\n",
      "  (gnn): GraphModule(\n",
      "    (conv1): ModuleDict(\n",
      "      (user__rates__movie): SAGEConv(64, 64, aggr=mean)\n",
      "      (movie__rev_rates__user): SAGEConv(64, 64, aggr=mean)\n",
      "    )\n",
      "    (conv2): ModuleDict(\n",
      "      (user__rates__movie): SAGEConv(64, 64, aggr=mean)\n",
      "      (movie__rev_rates__user): SAGEConv(64, 64, aggr=mean)\n",
      "    )\n",
      "  )\n",
      "  (classifier): Classifier()\n",
      ")\n"
     ]
    }
   ],
   "source": [
    "from torch_geometric.nn import SAGEConv, to_hetero\n",
    "import torch.nn.functional as F\n",
    "\n",
    "class GNN(torch.nn.Module):\n",
    "    def __init__(self, hidden_channels):\n",
    "        super().__init__()\n",
    "\n",
    "        self.conv1 = SAGEConv(hidden_channels, hidden_channels)\n",
    "        self.conv2 = SAGEConv(hidden_channels, hidden_channels)\n",
    "\n",
    "    def forward(self, x: Tensor, edge_index: Tensor) -> Tensor:\n",
    "        x = F.relu(self.conv1(x, edge_index))\n",
    "        x = self.conv2(x, edge_index)\n",
    "        return x\n",
    "\n",
    "\n",
    "# Our final classifier applies the dot-product between source and destination\n",
    "# node embeddings to derive edge-level predictions:\n",
    "class Classifier(torch.nn.Module):\n",
    "    def forward(self, user: Tensor, movie: Tensor, edge_label_index: Tensor) -> Tensor:\n",
    "        # Convert node embeddings to edge-level representations:\n",
    "        edge_feat_user = user[edge_label_index[0]]\n",
    "        edge_feat_movie = movie[edge_label_index[1]]\n",
    "\n",
    "        # Apply dot-product to get a prediction per supervision edge:\n",
    "        return (edge_feat_user * edge_feat_movie).sum(dim=-1)\n",
    "\n",
    "\n",
    "class Model(torch.nn.Module):\n",
    "    def __init__(self, hidden_channels):\n",
    "        super().__init__()\n",
    "        self.movie_lin = torch.nn.Linear(404, hidden_channels)\n",
    "        # create [hidden_channels] length embeddings for users\n",
    "        self.user_emb = torch.nn.Embedding(train_data[\"user\"].num_nodes, hidden_channels)\n",
    "        # create [hidden_channels] length embeddings for movie\n",
    "        self.movie_emb = torch.nn.Embedding(train_data[\"movie\"].num_nodes, hidden_channels)\n",
    "\n",
    "        # GNN: Homogeneous by default:\n",
    "        self.gnn = GNN(hidden_channels)\n",
    "\n",
    "        # Making GNN heterogeneous:\n",
    "        self.gnn = to_hetero(self.gnn, metadata=train_data.metadata())\n",
    "\n",
    "        self.classifier = Classifier()\n",
    "\n",
    "    def forward(self, data: HeteroData) -> Tensor:\n",
    "            x_dict = {\n",
    "              \"user\": self.user_emb(data[\"user\"].n_id),\n",
    "              \"movie\": self.movie_lin(data[\"movie\"].x) + self.movie_emb(data[\"movie\"].n_id),\n",
    "            }\n",
    "\n",
    "            # `x_dict` holds feature matrices of all node types\n",
    "            # `edge_index_dict` holds all edge indices of all edge types\n",
    "            x_dict = self.gnn(x_dict, data.edge_index_dict)\n",
    "\n",
    "            pred = self.classifier(\n",
    "                x_dict[\"user\"],\n",
    "                x_dict[\"movie\"],\n",
    "                data[\"user\", \"rates\", \"movie\"].edge_label_index,\n",
    "            )\n",
    "\n",
    "            return pred\n",
    "\n",
    "\n",
    "model = Model(hidden_channels=64)\n",
    "print(model)"
   ]
  },
  {
   "cell_type": "markdown",
   "metadata": {
    "id": "luOHSGA9YWjs"
   },
   "source": [
    "## Training"
   ]
  },
  {
   "cell_type": "code",
   "execution_count": 47,
   "metadata": {
    "colab": {
     "base_uri": "https://localhost:8080/"
    },
    "id": "VZsEj-SjYWjs",
    "outputId": "fb62f85e-f1c7-466e-8c75-74c4780f1873"
   },
   "outputs": [
    {
     "name": "stdout",
     "output_type": "stream",
     "text": [
      "Device: 'cpu'\n"
     ]
    },
    {
     "name": "stderr",
     "output_type": "stream",
     "text": [
      "100%|██████████| 190/190 [00:11<00:00, 16.40it/s]\n"
     ]
    },
    {
     "name": "stdout",
     "output_type": "stream",
     "text": [
      "Epoch: 001, Loss: 0.2796\n"
     ]
    },
    {
     "name": "stderr",
     "output_type": "stream",
     "text": [
      "100%|██████████| 190/190 [00:11<00:00, 17.09it/s]\n"
     ]
    },
    {
     "name": "stdout",
     "output_type": "stream",
     "text": [
      "Epoch: 002, Loss: 0.2649\n"
     ]
    },
    {
     "name": "stderr",
     "output_type": "stream",
     "text": [
      "100%|██████████| 190/190 [00:11<00:00, 15.91it/s]\n"
     ]
    },
    {
     "name": "stdout",
     "output_type": "stream",
     "text": [
      "Epoch: 003, Loss: 0.2586\n"
     ]
    },
    {
     "name": "stderr",
     "output_type": "stream",
     "text": [
      "100%|██████████| 190/190 [00:12<00:00, 15.69it/s]\n"
     ]
    },
    {
     "name": "stdout",
     "output_type": "stream",
     "text": [
      "Epoch: 004, Loss: 0.2527\n"
     ]
    },
    {
     "name": "stderr",
     "output_type": "stream",
     "text": [
      "100%|██████████| 190/190 [00:12<00:00, 15.80it/s]\n"
     ]
    },
    {
     "name": "stdout",
     "output_type": "stream",
     "text": [
      "Epoch: 005, Loss: 0.2424\n"
     ]
    },
    {
     "name": "stderr",
     "output_type": "stream",
     "text": [
      "100%|██████████| 190/190 [00:10<00:00, 17.28it/s]\n"
     ]
    },
    {
     "name": "stdout",
     "output_type": "stream",
     "text": [
      "Epoch: 006, Loss: 0.2396\n"
     ]
    },
    {
     "name": "stderr",
     "output_type": "stream",
     "text": [
      "100%|██████████| 190/190 [00:11<00:00, 16.18it/s]\n"
     ]
    },
    {
     "name": "stdout",
     "output_type": "stream",
     "text": [
      "Epoch: 007, Loss: 0.2317\n"
     ]
    },
    {
     "name": "stderr",
     "output_type": "stream",
     "text": [
      "100%|██████████| 190/190 [00:12<00:00, 15.75it/s]\n"
     ]
    },
    {
     "name": "stdout",
     "output_type": "stream",
     "text": [
      "Epoch: 008, Loss: 0.2230\n"
     ]
    },
    {
     "name": "stderr",
     "output_type": "stream",
     "text": [
      "100%|██████████| 190/190 [00:12<00:00, 15.64it/s]\n"
     ]
    },
    {
     "name": "stdout",
     "output_type": "stream",
     "text": [
      "Epoch: 009, Loss: 0.2197\n"
     ]
    },
    {
     "name": "stderr",
     "output_type": "stream",
     "text": [
      "100%|██████████| 190/190 [00:11<00:00, 16.06it/s]\n"
     ]
    },
    {
     "name": "stdout",
     "output_type": "stream",
     "text": [
      "Epoch: 010, Loss: 0.2167\n"
     ]
    },
    {
     "name": "stderr",
     "output_type": "stream",
     "text": [
      "100%|██████████| 190/190 [00:11<00:00, 17.04it/s]\n"
     ]
    },
    {
     "name": "stdout",
     "output_type": "stream",
     "text": [
      "Epoch: 011, Loss: 0.2110\n"
     ]
    },
    {
     "name": "stderr",
     "output_type": "stream",
     "text": [
      "100%|██████████| 190/190 [00:12<00:00, 15.62it/s]\n"
     ]
    },
    {
     "name": "stdout",
     "output_type": "stream",
     "text": [
      "Epoch: 012, Loss: 0.2068\n"
     ]
    },
    {
     "name": "stderr",
     "output_type": "stream",
     "text": [
      "100%|██████████| 190/190 [00:12<00:00, 15.71it/s]\n"
     ]
    },
    {
     "name": "stdout",
     "output_type": "stream",
     "text": [
      "Epoch: 013, Loss: 0.2023\n"
     ]
    },
    {
     "name": "stderr",
     "output_type": "stream",
     "text": [
      "100%|██████████| 190/190 [00:12<00:00, 15.74it/s]\n"
     ]
    },
    {
     "name": "stdout",
     "output_type": "stream",
     "text": [
      "Epoch: 014, Loss: 0.1958\n"
     ]
    },
    {
     "name": "stderr",
     "output_type": "stream",
     "text": [
      "100%|██████████| 190/190 [00:11<00:00, 16.51it/s]\n"
     ]
    },
    {
     "name": "stdout",
     "output_type": "stream",
     "text": [
      "Epoch: 015, Loss: 0.1892\n"
     ]
    },
    {
     "name": "stderr",
     "output_type": "stream",
     "text": [
      "100%|██████████| 190/190 [00:11<00:00, 16.98it/s]\n"
     ]
    },
    {
     "name": "stdout",
     "output_type": "stream",
     "text": [
      "Epoch: 016, Loss: 0.1868\n"
     ]
    },
    {
     "name": "stderr",
     "output_type": "stream",
     "text": [
      "100%|██████████| 190/190 [00:12<00:00, 15.76it/s]\n"
     ]
    },
    {
     "name": "stdout",
     "output_type": "stream",
     "text": [
      "Epoch: 017, Loss: 0.1847\n"
     ]
    },
    {
     "name": "stderr",
     "output_type": "stream",
     "text": [
      "100%|██████████| 190/190 [00:12<00:00, 15.74it/s]\n"
     ]
    },
    {
     "name": "stdout",
     "output_type": "stream",
     "text": [
      "Epoch: 018, Loss: 0.1830\n"
     ]
    },
    {
     "name": "stderr",
     "output_type": "stream",
     "text": [
      "100%|██████████| 190/190 [00:12<00:00, 15.59it/s]"
     ]
    },
    {
     "name": "stdout",
     "output_type": "stream",
     "text": [
      "Epoch: 019, Loss: 0.1742\n"
     ]
    },
    {
     "name": "stderr",
     "output_type": "stream",
     "text": [
      "\n"
     ]
    }
   ],
   "source": [
    "import tqdm # For progress bar\n",
    "import torch.nn.functional as F\n",
    "import torch_sparse\n",
    "\n",
    "device = torch.device('cuda' if torch.cuda.is_available() else 'cpu')\n",
    "print(f\"Device: '{device}'\")\n",
    "\n",
    "model = model.to(device)\n",
    "optimizer = torch.optim.Adam(model.parameters(), lr=0.001)\n",
    "\n",
    "for epoch in range(1, 20):\n",
    "    total_loss = total_examples = 0\n",
    "    for sampled_data in tqdm.tqdm(train_loader):\n",
    "        optimizer.zero_grad()\n",
    "\n",
    "        # Move `sampled_data` to the respective `device`\n",
    "        sampled_data.to(device)\n",
    "        # Run `forward` pass of the model\n",
    "        pred = model.forward(sampled_data)\n",
    "        # Apply binary cross entropy via\n",
    "        ground_truth = sampled_data[\"user\", \"rates\", \"movie\"].edge_label\n",
    "        loss = F.binary_cross_entropy_with_logits(pred, ground_truth)\n",
    "\n",
    "        loss.backward()\n",
    "        optimizer.step()\n",
    "        total_loss += float(loss) * pred.numel()\n",
    "        total_examples += pred.numel()\n",
    "    print(f\"Epoch: {epoch:03d}, Loss: {total_loss / total_examples:.4f}\")"
   ]
  },
  {
   "cell_type": "markdown",
   "metadata": {
    "id": "349BEQGDyR6d"
   },
   "source": [
    "## Evaluation\n"
   ]
  },
  {
   "cell_type": "code",
   "execution_count": 48,
   "metadata": {
    "id": "tT8JTjLTySGh"
   },
   "outputs": [],
   "source": [
    "# Define the validation seed edges:\n",
    "edge_label_index = val_data[\"user\", \"rates\", \"movie\"].edge_label_index\n",
    "edge_label = val_data[\"user\", \"rates\", \"movie\"].edge_label\n",
    "\n",
    "val_loader = LinkNeighborLoader(\n",
    "    data=val_data,\n",
    "    num_neighbors=[20, 10],\n",
    "    edge_label_index=((\"user\", \"rates\", \"movie\"), edge_label_index),\n",
    "    edge_label=edge_label,\n",
    "    batch_size=3 * 128,\n",
    "    shuffle=False,\n",
    ")"
   ]
  },
  {
   "cell_type": "code",
   "execution_count": 49,
   "metadata": {
    "colab": {
     "base_uri": "https://localhost:8080/"
    },
    "id": "Z1PBc5UZxgsr",
    "outputId": "930a9102-fd32-4c53-d27e-842e16373826"
   },
   "outputs": [
    {
     "name": "stderr",
     "output_type": "stream",
     "text": [
      "100%|██████████| 79/79 [00:01<00:00, 47.14it/s]\n"
     ]
    },
    {
     "name": "stdout",
     "output_type": "stream",
     "text": [
      "[-0.8687299 -5.031821  -3.3144045 ... -1.9972129  1.4597307 -3.5701156]\n",
      "\n",
      "Validation AUC: 0.9286\n",
      "\n",
      "Validation Precision: 0.8156\n",
      "\n",
      "Validation Recall: 0.7594\n"
     ]
    }
   ],
   "source": [
    "from sklearn.metrics import roc_auc_score, precision_score, recall_score\n",
    "\n",
    "preds = []\n",
    "ground_truths = []\n",
    "for sampled_data in tqdm.tqdm(val_loader):\n",
    "    with torch.no_grad():\n",
    "        # TODO: Collect predictions and ground-truths and write them into\n",
    "        # `preds` and `ground_truths`.\n",
    "        preds.append(model(sampled_data))\n",
    "        ground_truths.append(sampled_data[\"user\", \"rates\", \"movie\"].edge_label)\n",
    "        # raise NotImplementedError\n",
    "\n",
    "pred = torch.cat(preds, dim=0).cpu().numpy()\n",
    "ground_truth = torch.cat(ground_truths, dim=0).cpu().numpy()\n",
    "print(pred)\n",
    "auc = roc_auc_score(ground_truth, pred)\n",
    "print()\n",
    "print(f\"Validation AUC: {auc:.4f}\")\n",
    "\n",
    "\n",
    "prec = precision_score(y_true=ground_truth,y_pred=[1 if x>-0.5 else 0 for x in pred])\n",
    "print()\n",
    "print(f\"Validation Precision: {prec:.4f}\")\n",
    "\n",
    "rec = recall_score(y_true=ground_truth,y_pred=[1 if x>-0.5 else 0 for x in pred])\n",
    "print()\n",
    "print(f\"Validation Recall: {rec:.4f}\")\n",
    "\n",
    "\n"
   ]
  },
  {
   "cell_type": "code",
   "execution_count": 50,
   "metadata": {
    "colab": {
     "base_uri": "https://localhost:8080/"
    },
    "id": "AppMDXwSYWjs",
    "outputId": "222c589f-f42a-4069-8c1b-02708b53a3c5"
   },
   "outputs": [
    {
     "data": {
      "text/plain": [
       "(array([1., 1., 1., ..., 0., 0., 0.], dtype=float32),\n",
       " array([-0.8687299, -5.031821 , -3.3144045, ..., -1.9972129,  1.4597307,\n",
       "        -3.5701156], dtype=float32))"
      ]
     },
     "execution_count": 50,
     "metadata": {},
     "output_type": "execute_result"
    }
   ],
   "source": [
    "ground_truth, pred"
   ]
  },
  {
   "cell_type": "code",
   "execution_count": 51,
   "metadata": {
    "id": "Xg-Lx3bJytO6"
   },
   "outputs": [],
   "source": [
    "import numpy as np\n",
    "\n",
    "auc_lst = []\n",
    "\n",
    "for i in np.linspace(-1,1,100):\n",
    "  auc_score = roc_auc_score(ground_truth, [1 if x>i else 0 for x in pred])\n",
    "  auc_lst.append(auc_score)"
   ]
  },
  {
   "cell_type": "code",
   "execution_count": 52,
   "metadata": {
    "colab": {
     "base_uri": "https://localhost:8080/"
    },
    "id": "qFhm5Z_Vyj3Y",
    "outputId": "d3b2bd15-d52b-45c8-a1f1-97bc4f9f343d"
   },
   "outputs": [
    {
     "data": {
      "text/plain": [
       "0.8482842408013487"
      ]
     },
     "execution_count": 52,
     "metadata": {},
     "output_type": "execute_result"
    }
   ],
   "source": [
    "max(auc_lst)"
   ]
  },
  {
   "cell_type": "code",
   "execution_count": 53,
   "metadata": {
    "colab": {
     "base_uri": "https://localhost:8080/",
     "height": 206
    },
    "id": "GCDAEvveyofw",
    "outputId": "0a1b914e-4d71-4545-aaf7-ecd58385b129"
   },
   "outputs": [
    {
     "data": {
      "text/html": [
       "\n",
       "  <div id=\"df-c4839cdd-5565-4526-92ef-d1cb1c366823\" class=\"colab-df-container\">\n",
       "    <div>\n",
       "<style scoped>\n",
       "    .dataframe tbody tr th:only-of-type {\n",
       "        vertical-align: middle;\n",
       "    }\n",
       "\n",
       "    .dataframe tbody tr th {\n",
       "        vertical-align: top;\n",
       "    }\n",
       "\n",
       "    .dataframe thead th {\n",
       "        text-align: right;\n",
       "    }\n",
       "</style>\n",
       "<table border=\"1\" class=\"dataframe\">\n",
       "  <thead>\n",
       "    <tr style=\"text-align: right;\">\n",
       "      <th></th>\n",
       "      <th>user</th>\n",
       "      <th>movie</th>\n",
       "      <th>edge_exists</th>\n",
       "      <th>sim_score</th>\n",
       "    </tr>\n",
       "  </thead>\n",
       "  <tbody>\n",
       "    <tr>\n",
       "      <th>0</th>\n",
       "      <td>325.0</td>\n",
       "      <td>138.0</td>\n",
       "      <td>1.0</td>\n",
       "      <td>-0.868730</td>\n",
       "    </tr>\n",
       "    <tr>\n",
       "      <th>1</th>\n",
       "      <td>92.0</td>\n",
       "      <td>1404.0</td>\n",
       "      <td>1.0</td>\n",
       "      <td>-5.031821</td>\n",
       "    </tr>\n",
       "    <tr>\n",
       "      <th>2</th>\n",
       "      <td>150.0</td>\n",
       "      <td>620.0</td>\n",
       "      <td>1.0</td>\n",
       "      <td>-3.314404</td>\n",
       "    </tr>\n",
       "    <tr>\n",
       "      <th>3</th>\n",
       "      <td>75.0</td>\n",
       "      <td>1375.0</td>\n",
       "      <td>1.0</td>\n",
       "      <td>-3.949197</td>\n",
       "    </tr>\n",
       "    <tr>\n",
       "      <th>4</th>\n",
       "      <td>578.0</td>\n",
       "      <td>1543.0</td>\n",
       "      <td>1.0</td>\n",
       "      <td>-0.541766</td>\n",
       "    </tr>\n",
       "  </tbody>\n",
       "</table>\n",
       "</div>\n",
       "    <div class=\"colab-df-buttons\">\n",
       "\n",
       "  <div class=\"colab-df-container\">\n",
       "    <button class=\"colab-df-convert\" onclick=\"convertToInteractive('df-c4839cdd-5565-4526-92ef-d1cb1c366823')\"\n",
       "            title=\"Convert this dataframe to an interactive table.\"\n",
       "            style=\"display:none;\">\n",
       "\n",
       "  <svg xmlns=\"http://www.w3.org/2000/svg\" height=\"24px\" viewBox=\"0 -960 960 960\">\n",
       "    <path d=\"M120-120v-720h720v720H120Zm60-500h600v-160H180v160Zm220 220h160v-160H400v160Zm0 220h160v-160H400v160ZM180-400h160v-160H180v160Zm440 0h160v-160H620v160ZM180-180h160v-160H180v160Zm440 0h160v-160H620v160Z\"/>\n",
       "  </svg>\n",
       "    </button>\n",
       "\n",
       "  <style>\n",
       "    .colab-df-container {\n",
       "      display:flex;\n",
       "      gap: 12px;\n",
       "    }\n",
       "\n",
       "    .colab-df-convert {\n",
       "      background-color: #E8F0FE;\n",
       "      border: none;\n",
       "      border-radius: 50%;\n",
       "      cursor: pointer;\n",
       "      display: none;\n",
       "      fill: #1967D2;\n",
       "      height: 32px;\n",
       "      padding: 0 0 0 0;\n",
       "      width: 32px;\n",
       "    }\n",
       "\n",
       "    .colab-df-convert:hover {\n",
       "      background-color: #E2EBFA;\n",
       "      box-shadow: 0px 1px 2px rgba(60, 64, 67, 0.3), 0px 1px 3px 1px rgba(60, 64, 67, 0.15);\n",
       "      fill: #174EA6;\n",
       "    }\n",
       "\n",
       "    .colab-df-buttons div {\n",
       "      margin-bottom: 4px;\n",
       "    }\n",
       "\n",
       "    [theme=dark] .colab-df-convert {\n",
       "      background-color: #3B4455;\n",
       "      fill: #D2E3FC;\n",
       "    }\n",
       "\n",
       "    [theme=dark] .colab-df-convert:hover {\n",
       "      background-color: #434B5C;\n",
       "      box-shadow: 0px 1px 3px 1px rgba(0, 0, 0, 0.15);\n",
       "      filter: drop-shadow(0px 1px 2px rgba(0, 0, 0, 0.3));\n",
       "      fill: #FFFFFF;\n",
       "    }\n",
       "  </style>\n",
       "\n",
       "    <script>\n",
       "      const buttonEl =\n",
       "        document.querySelector('#df-c4839cdd-5565-4526-92ef-d1cb1c366823 button.colab-df-convert');\n",
       "      buttonEl.style.display =\n",
       "        google.colab.kernel.accessAllowed ? 'block' : 'none';\n",
       "\n",
       "      async function convertToInteractive(key) {\n",
       "        const element = document.querySelector('#df-c4839cdd-5565-4526-92ef-d1cb1c366823');\n",
       "        const dataTable =\n",
       "          await google.colab.kernel.invokeFunction('convertToInteractive',\n",
       "                                                    [key], {});\n",
       "        if (!dataTable) return;\n",
       "\n",
       "        const docLinkHtml = 'Like what you see? Visit the ' +\n",
       "          '<a target=\"_blank\" href=https://colab.research.google.com/notebooks/data_table.ipynb>data table notebook</a>'\n",
       "          + ' to learn more about interactive tables.';\n",
       "        element.innerHTML = '';\n",
       "        dataTable['output_type'] = 'display_data';\n",
       "        await google.colab.output.renderOutput(dataTable, element);\n",
       "        const docLink = document.createElement('div');\n",
       "        docLink.innerHTML = docLinkHtml;\n",
       "        element.appendChild(docLink);\n",
       "      }\n",
       "    </script>\n",
       "  </div>\n",
       "\n",
       "\n",
       "<div id=\"df-83644bc6-a7c1-4902-a13a-4a99e112189a\">\n",
       "  <button class=\"colab-df-quickchart\" onclick=\"quickchart('df-83644bc6-a7c1-4902-a13a-4a99e112189a')\"\n",
       "            title=\"Suggest charts\"\n",
       "            style=\"display:none;\">\n",
       "\n",
       "<svg xmlns=\"http://www.w3.org/2000/svg\" height=\"24px\"viewBox=\"0 0 24 24\"\n",
       "     width=\"24px\">\n",
       "    <g>\n",
       "        <path d=\"M19 3H5c-1.1 0-2 .9-2 2v14c0 1.1.9 2 2 2h14c1.1 0 2-.9 2-2V5c0-1.1-.9-2-2-2zM9 17H7v-7h2v7zm4 0h-2V7h2v10zm4 0h-2v-4h2v4z\"/>\n",
       "    </g>\n",
       "</svg>\n",
       "  </button>\n",
       "\n",
       "<style>\n",
       "  .colab-df-quickchart {\n",
       "      --bg-color: #E8F0FE;\n",
       "      --fill-color: #1967D2;\n",
       "      --hover-bg-color: #E2EBFA;\n",
       "      --hover-fill-color: #174EA6;\n",
       "      --disabled-fill-color: #AAA;\n",
       "      --disabled-bg-color: #DDD;\n",
       "  }\n",
       "\n",
       "  [theme=dark] .colab-df-quickchart {\n",
       "      --bg-color: #3B4455;\n",
       "      --fill-color: #D2E3FC;\n",
       "      --hover-bg-color: #434B5C;\n",
       "      --hover-fill-color: #FFFFFF;\n",
       "      --disabled-bg-color: #3B4455;\n",
       "      --disabled-fill-color: #666;\n",
       "  }\n",
       "\n",
       "  .colab-df-quickchart {\n",
       "    background-color: var(--bg-color);\n",
       "    border: none;\n",
       "    border-radius: 50%;\n",
       "    cursor: pointer;\n",
       "    display: none;\n",
       "    fill: var(--fill-color);\n",
       "    height: 32px;\n",
       "    padding: 0;\n",
       "    width: 32px;\n",
       "  }\n",
       "\n",
       "  .colab-df-quickchart:hover {\n",
       "    background-color: var(--hover-bg-color);\n",
       "    box-shadow: 0 1px 2px rgba(60, 64, 67, 0.3), 0 1px 3px 1px rgba(60, 64, 67, 0.15);\n",
       "    fill: var(--button-hover-fill-color);\n",
       "  }\n",
       "\n",
       "  .colab-df-quickchart-complete:disabled,\n",
       "  .colab-df-quickchart-complete:disabled:hover {\n",
       "    background-color: var(--disabled-bg-color);\n",
       "    fill: var(--disabled-fill-color);\n",
       "    box-shadow: none;\n",
       "  }\n",
       "\n",
       "  .colab-df-spinner {\n",
       "    border: 2px solid var(--fill-color);\n",
       "    border-color: transparent;\n",
       "    border-bottom-color: var(--fill-color);\n",
       "    animation:\n",
       "      spin 1s steps(1) infinite;\n",
       "  }\n",
       "\n",
       "  @keyframes spin {\n",
       "    0% {\n",
       "      border-color: transparent;\n",
       "      border-bottom-color: var(--fill-color);\n",
       "      border-left-color: var(--fill-color);\n",
       "    }\n",
       "    20% {\n",
       "      border-color: transparent;\n",
       "      border-left-color: var(--fill-color);\n",
       "      border-top-color: var(--fill-color);\n",
       "    }\n",
       "    30% {\n",
       "      border-color: transparent;\n",
       "      border-left-color: var(--fill-color);\n",
       "      border-top-color: var(--fill-color);\n",
       "      border-right-color: var(--fill-color);\n",
       "    }\n",
       "    40% {\n",
       "      border-color: transparent;\n",
       "      border-right-color: var(--fill-color);\n",
       "      border-top-color: var(--fill-color);\n",
       "    }\n",
       "    60% {\n",
       "      border-color: transparent;\n",
       "      border-right-color: var(--fill-color);\n",
       "    }\n",
       "    80% {\n",
       "      border-color: transparent;\n",
       "      border-right-color: var(--fill-color);\n",
       "      border-bottom-color: var(--fill-color);\n",
       "    }\n",
       "    90% {\n",
       "      border-color: transparent;\n",
       "      border-bottom-color: var(--fill-color);\n",
       "    }\n",
       "  }\n",
       "</style>\n",
       "\n",
       "  <script>\n",
       "    async function quickchart(key) {\n",
       "      const quickchartButtonEl =\n",
       "        document.querySelector('#' + key + ' button');\n",
       "      quickchartButtonEl.disabled = true;  // To prevent multiple clicks.\n",
       "      quickchartButtonEl.classList.add('colab-df-spinner');\n",
       "      try {\n",
       "        const charts = await google.colab.kernel.invokeFunction(\n",
       "            'suggestCharts', [key], {});\n",
       "      } catch (error) {\n",
       "        console.error('Error during call to suggestCharts:', error);\n",
       "      }\n",
       "      quickchartButtonEl.classList.remove('colab-df-spinner');\n",
       "      quickchartButtonEl.classList.add('colab-df-quickchart-complete');\n",
       "    }\n",
       "    (() => {\n",
       "      let quickchartButtonEl =\n",
       "        document.querySelector('#df-83644bc6-a7c1-4902-a13a-4a99e112189a button');\n",
       "      quickchartButtonEl.style.display =\n",
       "        google.colab.kernel.accessAllowed ? 'block' : 'none';\n",
       "    })();\n",
       "  </script>\n",
       "</div>\n",
       "    </div>\n",
       "  </div>\n"
      ],
      "text/plain": [
       "    user   movie  edge_exists  sim_score\n",
       "0  325.0   138.0          1.0  -0.868730\n",
       "1   92.0  1404.0          1.0  -5.031821\n",
       "2  150.0   620.0          1.0  -3.314404\n",
       "3   75.0  1375.0          1.0  -3.949197\n",
       "4  578.0  1543.0          1.0  -0.541766"
      ]
     },
     "execution_count": 53,
     "metadata": {},
     "output_type": "execute_result"
    }
   ],
   "source": [
    "import pandas as pd\n",
    "import numpy as np\n",
    "\n",
    "user_movies = val_data[('user', 'rates', 'movie')]['edge_label_index'].numpy()\n",
    "actual_edge_exists = val_data[('user', 'rates', 'movie')]['edge_label'].numpy()\n",
    "pred\n",
    "\n",
    "val_pred = np.vstack([user_movies, actual_edge_exists, pred])\n",
    "val_pred = val_pred.transpose()\n",
    "val_pred = pd.DataFrame(val_pred)\n",
    "val_pred.columns = ['user','movie','edge_exists','sim_score']\n",
    "val_pred.head()"
   ]
  },
  {
   "cell_type": "code",
   "execution_count": 56,
   "metadata": {
    "colab": {
     "base_uri": "https://localhost:8080/"
    },
    "id": "YCZW2-K1zMPW",
    "outputId": "f26af3f9-7613-46ce-e4fb-93288bc12210"
   },
   "outputs": [
    {
     "data": {
      "text/plain": [
       "(0.6138054150550432, 0.8084911822338341)"
      ]
     },
     "execution_count": 56,
     "metadata": {},
     "output_type": "execute_result"
    }
   ],
   "source": [
    "val_pred['rank'] = val_pred.groupby('user')['sim_score'].rank(method='dense', ascending=False)\n",
    "k = 50\n",
    "val_pred['pred_top20'] = val_pred.apply(lambda x: 1 if x['rank']<=k and x['sim_score']>-0.5 else 0, axis=1)\n",
    "\n",
    "from sklearn.metrics import precision_score, recall_score\n",
    "\n",
    "recall_score(val_pred['edge_exists'],val_pred['pred_top20']), precision_score(val_pred['edge_exists'],val_pred['pred_top20'])\n"
   ]
  },
  {
   "cell_type": "code",
   "execution_count": 57,
   "metadata": {
    "colab": {
     "base_uri": "https://localhost:8080/"
    },
    "id": "EZd8prL3zN6N",
    "outputId": "e6d12bc5-a339-4e6e-e58a-e9a1e9748c24"
   },
   "outputs": [
    {
     "data": {
      "text/plain": [
       "0.7705543984925122"
      ]
     },
     "execution_count": 57,
     "metadata": {},
     "output_type": "execute_result"
    }
   ],
   "source": [
    "roc_auc_score(val_pred['edge_exists'],val_pred['pred_top20'])"
   ]
  },
  {
   "cell_type": "code",
   "execution_count": null,
   "metadata": {
    "id": "NTwkkjrJ0m32"
   },
   "outputs": [],
   "source": []
  }
 ],
 "metadata": {
  "colab": {
   "provenance": []
  },
  "kernelspec": {
   "display_name": "Python 3 (ipykernel)",
   "language": "python",
   "name": "python3"
  },
  "language_info": {
   "codemirror_mode": {
    "name": "ipython",
    "version": 3
   },
   "file_extension": ".py",
   "mimetype": "text/x-python",
   "name": "python",
   "nbconvert_exporter": "python",
   "pygments_lexer": "ipython3",
   "version": "3.9.7"
  }
 },
 "nbformat": 4,
 "nbformat_minor": 1
}

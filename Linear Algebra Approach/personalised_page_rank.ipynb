{
 "cells": [
  {
   "cell_type": "markdown",
   "id": "69b56166",
   "metadata": {},
   "source": [
    "## 1. Importing required libraries "
   ]
  },
  {
   "cell_type": "code",
   "execution_count": 1,
   "id": "c2140cd8",
   "metadata": {},
   "outputs": [],
   "source": [
    "import torch\n",
    "from torch_geometric.utils import to_networkx\n",
    "import networkx as nx\n",
    "import operator\n",
    "from torch_geometric.loader import LinkNeighborLoader\n",
    "from sklearn.metrics import roc_auc_score, precision_score, recall_score, precision_recall_curve\n",
    "from torch_geometric.datasets import MovieLens\n",
    "import numpy as np\n",
    "import torch_geometric.transforms as T"
   ]
  },
  {
   "cell_type": "code",
   "execution_count": 2,
   "id": "e6906583",
   "metadata": {},
   "outputs": [
    {
     "name": "stdout",
     "output_type": "stream",
     "text": [
      "Looking in links: https://data.pyg.org/whl/torch-${TORCH}.html\n",
      "Collecting torch-scatter\n",
      "  Using cached torch_scatter-2.1.2.tar.gz (108 kB)\n",
      "  Preparing metadata (setup.py): started\n",
      "  Preparing metadata (setup.py): finished with status 'done'\n",
      "Building wheels for collected packages: torch-scatter\n",
      "  Building wheel for torch-scatter (setup.py): started\n",
      "  Building wheel for torch-scatter (setup.py): finished with status 'error'\n",
      "  Running setup.py clean for torch-scatter\n",
      "Failed to build torch-scatter\n"
     ]
    },
    {
     "name": "stderr",
     "output_type": "stream",
     "text": [
      "WARNING: Ignoring invalid distribution -upyter-client (d:\\anaconda\\envs\\deeplearning\\lib\\site-packages)\n",
      "  error: subprocess-exited-with-error\n",
      "  \n",
      "  python setup.py bdist_wheel did not run successfully.\n",
      "  exit code: 1\n",
      "  \n",
      "  [39 lines of output]\n",
      "  No CUDA runtime is found, using CUDA_HOME='C:\\Program Files\\NVIDIA GPU Computing Toolkit\\CUDA\\v11.6'\n",
      "  running bdist_wheel\n",
      "  running build\n",
      "  running build_py\n",
      "  creating build\n",
      "  creating build\\lib.win-amd64-3.9\n",
      "  creating build\\lib.win-amd64-3.9\\torch_scatter\n",
      "  copying torch_scatter\\placeholder.py -> build\\lib.win-amd64-3.9\\torch_scatter\n",
      "  copying torch_scatter\\scatter.py -> build\\lib.win-amd64-3.9\\torch_scatter\n",
      "  copying torch_scatter\\segment_coo.py -> build\\lib.win-amd64-3.9\\torch_scatter\n",
      "  copying torch_scatter\\segment_csr.py -> build\\lib.win-amd64-3.9\\torch_scatter\n",
      "  copying torch_scatter\\testing.py -> build\\lib.win-amd64-3.9\\torch_scatter\n",
      "  copying torch_scatter\\utils.py -> build\\lib.win-amd64-3.9\\torch_scatter\n",
      "  copying torch_scatter\\__init__.py -> build\\lib.win-amd64-3.9\\torch_scatter\n",
      "  creating build\\lib.win-amd64-3.9\\torch_scatter\\composite\n",
      "  copying torch_scatter\\composite\\logsumexp.py -> build\\lib.win-amd64-3.9\\torch_scatter\\composite\n",
      "  copying torch_scatter\\composite\\softmax.py -> build\\lib.win-amd64-3.9\\torch_scatter\\composite\n",
      "  copying torch_scatter\\composite\\std.py -> build\\lib.win-amd64-3.9\\torch_scatter\\composite\n",
      "  copying torch_scatter\\composite\\__init__.py -> build\\lib.win-amd64-3.9\\torch_scatter\\composite\n",
      "  running egg_info\n",
      "  writing torch_scatter.egg-info\\PKG-INFO\n",
      "  writing dependency_links to torch_scatter.egg-info\\dependency_links.txt\n",
      "  writing requirements to torch_scatter.egg-info\\requires.txt\n",
      "  writing top-level names to torch_scatter.egg-info\\top_level.txt\n",
      "  reading manifest file 'torch_scatter.egg-info\\SOURCES.txt'\n",
      "  reading manifest template 'MANIFEST.in'\n",
      "  warning: no previously-included files matching '*' found under directory 'test'\n",
      "  adding license file 'LICENSE'\n",
      "  writing manifest file 'torch_scatter.egg-info\\SOURCES.txt'\n",
      "  running build_ext\n",
      "  D:\\Anaconda\\envs\\deeplearning\\lib\\site-packages\\torch\\utils\\cpp_extension.py:322: UserWarning: Error checking compiler version for cl: [WinError 2] The system cannot find the file specified\n",
      "    warnings.warn(f'Error checking compiler version for {compiler}: {error}')\n",
      "  building 'torch_scatter._scatter_cpu' extension\n",
      "  error: Microsoft Visual C++ 14.0 or greater is required. Get it with \"Microsoft C++ Build Tools\": https://visualstudio.microsoft.com/visual-cpp-build-tools/\n",
      "  Error in atexit._run_exitfuncs:\n",
      "  Traceback (most recent call last):\n",
      "    File \"D:\\Anaconda\\envs\\deeplearning\\lib\\site-packages\\colorama\\ansitowin32.py\", line 59, in closed\n",
      "      return stream.closed\n",
      "  ValueError: underlying buffer has been detached\n",
      "  [end of output]\n",
      "  \n",
      "  note: This error originates from a subprocess, and is likely not a problem with pip.\n",
      "  ERROR: Failed building wheel for torch-scatter\n",
      "ERROR: Could not build wheels for torch-scatter, which is required to install pyproject.toml-based projects\n"
     ]
    },
    {
     "name": "stdout",
     "output_type": "stream",
     "text": [
      "Looking in links: https://data.pyg.org/whl/torch-${TORCH}.html\n",
      "Collecting torch-sparse\n",
      "  Using cached torch_sparse-0.6.18.tar.gz (209 kB)\n",
      "  Preparing metadata (setup.py): started\n",
      "  Preparing metadata (setup.py): finished with status 'done'\n",
      "Requirement already satisfied: scipy in d:\\anaconda\\envs\\deeplearning\\lib\\site-packages (from torch-sparse) (1.11.4)\n",
      "Requirement already satisfied: numpy<1.28.0,>=1.21.6 in d:\\anaconda\\envs\\deeplearning\\lib\\site-packages (from scipy->torch-sparse) (1.26.2)\n",
      "Building wheels for collected packages: torch-sparse\n",
      "  Building wheel for torch-sparse (setup.py): started\n",
      "  Building wheel for torch-sparse (setup.py): finished with status 'error'\n",
      "  Running setup.py clean for torch-sparse\n",
      "Failed to build torch-sparse\n"
     ]
    },
    {
     "name": "stderr",
     "output_type": "stream",
     "text": [
      "WARNING: Ignoring invalid distribution -upyter-client (d:\\anaconda\\envs\\deeplearning\\lib\\site-packages)\n",
      "  error: subprocess-exited-with-error\n",
      "  \n",
      "  python setup.py bdist_wheel did not run successfully.\n",
      "  exit code: 1\n",
      "  \n",
      "  [64 lines of output]\n",
      "  No CUDA runtime is found, using CUDA_HOME='C:\\Program Files\\NVIDIA GPU Computing Toolkit\\CUDA\\v11.6'\n",
      "  running bdist_wheel\n",
      "  D:\\Anaconda\\envs\\deeplearning\\lib\\site-packages\\torch\\utils\\cpp_extension.py:387: UserWarning: Attempted to use ninja as the BuildExtension backend but we could not find ninja.. Falling back to using the slow distutils backend.\n",
      "    warnings.warn(msg.format('we could not find ninja.'))\n",
      "  running build\n",
      "  running build_py\n",
      "  creating build\n",
      "  creating build\\lib.win-amd64-3.9\n",
      "  creating build\\lib.win-amd64-3.9\\torch_sparse\n",
      "  copying torch_sparse\\add.py -> build\\lib.win-amd64-3.9\\torch_sparse\n",
      "  copying torch_sparse\\bandwidth.py -> build\\lib.win-amd64-3.9\\torch_sparse\n",
      "  copying torch_sparse\\cat.py -> build\\lib.win-amd64-3.9\\torch_sparse\n",
      "  copying torch_sparse\\coalesce.py -> build\\lib.win-amd64-3.9\\torch_sparse\n",
      "  copying torch_sparse\\convert.py -> build\\lib.win-amd64-3.9\\torch_sparse\n",
      "  copying torch_sparse\\diag.py -> build\\lib.win-amd64-3.9\\torch_sparse\n",
      "  copying torch_sparse\\eye.py -> build\\lib.win-amd64-3.9\\torch_sparse\n",
      "  copying torch_sparse\\index_select.py -> build\\lib.win-amd64-3.9\\torch_sparse\n",
      "  copying torch_sparse\\masked_select.py -> build\\lib.win-amd64-3.9\\torch_sparse\n",
      "  copying torch_sparse\\matmul.py -> build\\lib.win-amd64-3.9\\torch_sparse\n",
      "  copying torch_sparse\\metis.py -> build\\lib.win-amd64-3.9\\torch_sparse\n",
      "  copying torch_sparse\\mul.py -> build\\lib.win-amd64-3.9\\torch_sparse\n",
      "  copying torch_sparse\\narrow.py -> build\\lib.win-amd64-3.9\\torch_sparse\n",
      "  copying torch_sparse\\permute.py -> build\\lib.win-amd64-3.9\\torch_sparse\n",
      "  copying torch_sparse\\reduce.py -> build\\lib.win-amd64-3.9\\torch_sparse\n",
      "  copying torch_sparse\\rw.py -> build\\lib.win-amd64-3.9\\torch_sparse\n",
      "  copying torch_sparse\\saint.py -> build\\lib.win-amd64-3.9\\torch_sparse\n",
      "  copying torch_sparse\\sample.py -> build\\lib.win-amd64-3.9\\torch_sparse\n",
      "  copying torch_sparse\\select.py -> build\\lib.win-amd64-3.9\\torch_sparse\n",
      "  copying torch_sparse\\spadd.py -> build\\lib.win-amd64-3.9\\torch_sparse\n",
      "  copying torch_sparse\\spmm.py -> build\\lib.win-amd64-3.9\\torch_sparse\n",
      "  copying torch_sparse\\spspmm.py -> build\\lib.win-amd64-3.9\\torch_sparse\n",
      "  copying torch_sparse\\storage.py -> build\\lib.win-amd64-3.9\\torch_sparse\n",
      "  copying torch_sparse\\tensor.py -> build\\lib.win-amd64-3.9\\torch_sparse\n",
      "  copying torch_sparse\\testing.py -> build\\lib.win-amd64-3.9\\torch_sparse\n",
      "  copying torch_sparse\\transpose.py -> build\\lib.win-amd64-3.9\\torch_sparse\n",
      "  copying torch_sparse\\typing.py -> build\\lib.win-amd64-3.9\\torch_sparse\n",
      "  copying torch_sparse\\utils.py -> build\\lib.win-amd64-3.9\\torch_sparse\n",
      "  copying torch_sparse\\__init__.py -> build\\lib.win-amd64-3.9\\torch_sparse\n",
      "  running egg_info\n",
      "  writing torch_sparse.egg-info\\PKG-INFO\n",
      "  writing dependency_links to torch_sparse.egg-info\\dependency_links.txt\n",
      "  writing requirements to torch_sparse.egg-info\\requires.txt\n",
      "  writing top-level names to torch_sparse.egg-info\\top_level.txt\n",
      "  reading manifest file 'torch_sparse.egg-info\\SOURCES.txt'\n",
      "  reading manifest template 'MANIFEST.in'\n",
      "  warning: no previously-included files matching '*' found under directory 'third_party\\parallel-hashmap\\css'\n",
      "  warning: no previously-included files matching '*' found under directory 'third_party\\parallel-hashmap\\html'\n",
      "  warning: no previously-included files matching '*' found under directory 'third_party\\parallel-hashmap\\tests'\n",
      "  warning: no previously-included files matching '*' found under directory 'third_party\\parallel-hashmap\\examples'\n",
      "  warning: no previously-included files matching '*' found under directory 'third_party\\parallel-hashmap\\benchmark'\n",
      "  warning: no previously-included files matching '*' found under directory 'test'\n",
      "  warning: no previously-included files matching '*' found under directory 'benchmark'\n",
      "  adding license file 'LICENSE'\n",
      "  writing manifest file 'torch_sparse.egg-info\\SOURCES.txt'\n",
      "  running build_ext\n",
      "  D:\\Anaconda\\envs\\deeplearning\\lib\\site-packages\\torch\\utils\\cpp_extension.py:322: UserWarning: Error checking compiler version for cl: [WinError 2] The system cannot find the file specified\n",
      "    warnings.warn(f'Error checking compiler version for {compiler}: {error}')\n",
      "  building 'torch_sparse._convert_cpu' extension\n",
      "  error: Microsoft Visual C++ 14.0 or greater is required. Get it with \"Microsoft C++ Build Tools\": https://visualstudio.microsoft.com/visual-cpp-build-tools/\n",
      "  Error in atexit._run_exitfuncs:\n",
      "  Traceback (most recent call last):\n",
      "    File \"D:\\Anaconda\\envs\\deeplearning\\lib\\site-packages\\colorama\\ansitowin32.py\", line 59, in closed\n",
      "      return stream.closed\n",
      "  ValueError: underlying buffer has been detached\n",
      "  [end of output]\n",
      "  \n",
      "  note: This error originates from a subprocess, and is likely not a problem with pip.\n",
      "  ERROR: Failed building wheel for torch-sparse\n",
      "ERROR: Could not build wheels for torch-sparse, which is required to install pyproject.toml-based projects\n"
     ]
    },
    {
     "name": "stdout",
     "output_type": "stream",
     "text": [
      "Looking in links: https://data.pyg.org/whl/nightly/torch-${TORCH}.html\n"
     ]
    },
    {
     "name": "stderr",
     "output_type": "stream",
     "text": [
      "WARNING: Ignoring invalid distribution -upyter-client (d:\\anaconda\\envs\\deeplearning\\lib\\site-packages)\n",
      "ERROR: Could not find a version that satisfies the requirement pyg-lib (from versions: none)\n",
      "ERROR: No matching distribution found for pyg-lib\n"
     ]
    },
    {
     "name": "stdout",
     "output_type": "stream",
     "text": [
      "Collecting git+https://github.com/pyg-team/pytorch_geometric.git"
     ]
    },
    {
     "name": "stderr",
     "output_type": "stream",
     "text": [
      "WARNING: Ignoring invalid distribution -upyter-client (d:\\anaconda\\envs\\deeplearning\\lib\\site-packages)\n",
      "  Running command git clone --filter=blob:none --quiet https://github.com/pyg-team/pytorch_geometric.git 'C:\\Users\\admin\\AppData\\Local\\Temp\\pip-req-build-6qc8x1r8'\n",
      "WARNING: Error parsing requirements for absl-py: [Errno 2] No such file or directory: 'd:\\\\anaconda\\\\envs\\\\deeplearning\\\\lib\\\\site-packages\\\\absl_py-0.15.0.dist-info\\\\METADATA'\n",
      "WARNING: Ignoring invalid distribution -upyter-client (d:\\anaconda\\envs\\deeplearning\\lib\\site-packages)\n"
     ]
    },
    {
     "name": "stdout",
     "output_type": "stream",
     "text": [
      "\n",
      "  Cloning https://github.com/pyg-team/pytorch_geometric.git to c:\\users\\admin\\appdata\\local\\temp\\pip-req-build-6qc8x1r8\n",
      "  Resolved https://github.com/pyg-team/pytorch_geometric.git to commit 29bb531937572d185ed974b6db8d5e51d2f52354\n",
      "  Installing build dependencies: started\n",
      "  Installing build dependencies: finished with status 'done'\n",
      "  Getting requirements to build wheel: started\n",
      "  Getting requirements to build wheel: finished with status 'done'\n",
      "  Preparing metadata (pyproject.toml): started\n",
      "  Preparing metadata (pyproject.toml): finished with status 'done'\n",
      "Requirement already satisfied: tqdm in d:\\anaconda\\envs\\deeplearning\\lib\\site-packages (from torch_geometric==2.4.0) (4.66.1)\n",
      "Requirement already satisfied: numpy in d:\\anaconda\\envs\\deeplearning\\lib\\site-packages (from torch_geometric==2.4.0) (1.26.2)\n",
      "Requirement already satisfied: scipy in d:\\anaconda\\envs\\deeplearning\\lib\\site-packages (from torch_geometric==2.4.0) (1.11.4)\n",
      "Requirement already satisfied: fsspec in d:\\anaconda\\envs\\deeplearning\\lib\\site-packages (from torch_geometric==2.4.0) (2023.10.0)\n",
      "Requirement already satisfied: jinja2 in d:\\anaconda\\envs\\deeplearning\\lib\\site-packages (from torch_geometric==2.4.0) (3.1.2)\n",
      "Requirement already satisfied: aiohttp in d:\\anaconda\\envs\\deeplearning\\lib\\site-packages (from torch_geometric==2.4.0) (3.8.1)\n",
      "Requirement already satisfied: requests in d:\\anaconda\\envs\\deeplearning\\lib\\site-packages (from torch_geometric==2.4.0) (2.31.0)\n",
      "Requirement already satisfied: pyparsing in d:\\anaconda\\envs\\deeplearning\\lib\\site-packages (from torch_geometric==2.4.0) (3.0.8)\n",
      "Requirement already satisfied: scikit-learn in d:\\anaconda\\envs\\deeplearning\\lib\\site-packages (from torch_geometric==2.4.0) (1.0.2)\n",
      "Requirement already satisfied: psutil>=5.8.0 in d:\\anaconda\\envs\\deeplearning\\lib\\site-packages (from torch_geometric==2.4.0) (5.9.3)\n",
      "Requirement already satisfied: attrs>=17.3.0 in d:\\anaconda\\envs\\deeplearning\\lib\\site-packages (from aiohttp->torch_geometric==2.4.0) (21.4.0)\n",
      "Requirement already satisfied: charset-normalizer<3.0,>=2.0 in d:\\anaconda\\envs\\deeplearning\\lib\\site-packages (from aiohttp->torch_geometric==2.4.0) (2.0.4)\n",
      "Requirement already satisfied: multidict<7.0,>=4.5 in d:\\anaconda\\envs\\deeplearning\\lib\\site-packages (from aiohttp->torch_geometric==2.4.0) (5.1.0)\n",
      "Requirement already satisfied: async-timeout<5.0,>=4.0.0a3 in d:\\anaconda\\envs\\deeplearning\\lib\\site-packages (from aiohttp->torch_geometric==2.4.0) (4.0.1)\n",
      "Requirement already satisfied: yarl<2.0,>=1.0 in d:\\anaconda\\envs\\deeplearning\\lib\\site-packages (from aiohttp->torch_geometric==2.4.0) (1.6.3)\n",
      "Requirement already satisfied: frozenlist>=1.1.1 in d:\\anaconda\\envs\\deeplearning\\lib\\site-packages (from aiohttp->torch_geometric==2.4.0) (1.2.0)\n",
      "Requirement already satisfied: aiosignal>=1.1.2 in d:\\anaconda\\envs\\deeplearning\\lib\\site-packages (from aiohttp->torch_geometric==2.4.0) (1.2.0)\n",
      "Requirement already satisfied: MarkupSafe>=2.0 in d:\\anaconda\\envs\\deeplearning\\lib\\site-packages (from jinja2->torch_geometric==2.4.0) (2.1.1)\n",
      "Requirement already satisfied: idna<4,>=2.5 in d:\\anaconda\\envs\\deeplearning\\lib\\site-packages (from requests->torch_geometric==2.4.0) (3.3)\n",
      "Requirement already satisfied: urllib3<3,>=1.21.1 in d:\\anaconda\\envs\\deeplearning\\lib\\site-packages (from requests->torch_geometric==2.4.0) (1.26.18)\n",
      "Requirement already satisfied: certifi>=2017.4.17 in d:\\anaconda\\envs\\deeplearning\\lib\\site-packages (from requests->torch_geometric==2.4.0) (2022.9.24)\n",
      "Requirement already satisfied: joblib>=0.11 in d:\\anaconda\\envs\\deeplearning\\lib\\site-packages (from scikit-learn->torch_geometric==2.4.0) (1.1.0)\n",
      "Requirement already satisfied: threadpoolctl>=2.0.0 in d:\\anaconda\\envs\\deeplearning\\lib\\site-packages (from scikit-learn->torch_geometric==2.4.0) (2.2.0)\n",
      "Requirement already satisfied: colorama in d:\\anaconda\\envs\\deeplearning\\lib\\site-packages (from tqdm->torch_geometric==2.4.0) (0.4.4)\n",
      "Requirement already satisfied: typing-extensions>=3.6.5 in d:\\anaconda\\envs\\deeplearning\\lib\\site-packages (from async-timeout<5.0,>=4.0.0a3->aiohttp->torch_geometric==2.4.0) (4.9.0)\n"
     ]
    }
   ],
   "source": [
    "# Install required packages.\n",
    "import os\n",
    "os.environ['TORCH'] = torch.__version__\n",
    "\n",
    "!pip install torch-scatter -f https://data.pyg.org/whl/torch-${TORCH}.html\n",
    "!pip install torch-sparse -f https://data.pyg.org/whl/torch-${TORCH}.html\n",
    "!pip install pyg-lib -f https://data.pyg.org/whl/nightly/torch-${TORCH}.html\n",
    "!pip install git+https://github.com/pyg-team/pytorch_geometric.git"
   ]
  },
  {
   "cell_type": "markdown",
   "id": "0136a786",
   "metadata": {},
   "source": [
    "## 2. Loading datasets"
   ]
  },
  {
   "cell_type": "code",
   "execution_count": 3,
   "id": "27f64ef8",
   "metadata": {},
   "outputs": [
    {
     "name": "stdout",
     "output_type": "stream",
     "text": [
      "HeteroData(\n",
      "  movie={ x=[9742, 404] },\n",
      "  user={ num_nodes=610 },\n",
      "  (user, rates, movie)={\n",
      "    edge_index=[2, 100836],\n",
      "    edge_label=[100836],\n",
      "  }\n",
      ")\n"
     ]
    }
   ],
   "source": [
    "main_data = MovieLens(root='../data/movielens')[0]\n",
    "print(main_data)"
   ]
  },
  {
   "cell_type": "code",
   "execution_count": 4,
   "id": "98e550f4",
   "metadata": {},
   "outputs": [
    {
     "data": {
      "text/plain": [
       "(HeteroData(\n",
       "   movie={ x=[9742, 404] },\n",
       "   user={ num_nodes=610 },\n",
       "   (user, rates, movie)={\n",
       "     edge_index=[2, 49411],\n",
       "     edge_label=[21175],\n",
       "     edge_label_index=[2, 21175],\n",
       "   }\n",
       " ),\n",
       " HeteroData(\n",
       "   movie={ x=[9742, 404] },\n",
       "   user={ num_nodes=610 },\n",
       "   (user, rates, movie)={\n",
       "     edge_index=[2, 70586],\n",
       "     edge_label=[90750],\n",
       "     edge_label_index=[2, 90750],\n",
       "   }\n",
       " ),\n",
       " HeteroData(\n",
       "   movie={ x=[9742, 404] },\n",
       "   user={ num_nodes=610 },\n",
       "   (user, rates, movie)={\n",
       "     edge_index=[2, 100836],\n",
       "     edge_label=[0],\n",
       "     edge_label_index=[2, 0],\n",
       "   }\n",
       " ))"
      ]
     },
     "execution_count": 4,
     "metadata": {},
     "output_type": "execute_result"
    }
   ],
   "source": [
    "## Split Data into train and validate\n",
    "transform = T.RandomLinkSplit(\n",
    "    num_test = 0,\n",
    "    num_val=0.3,  # Validation set 10%\n",
    "    disjoint_train_ratio=0.3,  # 30% of edges for supervision\n",
    "    neg_sampling_ratio=2.0,  # negative samples to positive samples ratio\n",
    "    add_negative_train_samples=False, \n",
    "    edge_types=(\"user\", \"rates\", \"movie\"),\n",
    ")\n",
    "\n",
    "train_data, val_data , test_data = transform(main_data)\n",
    "train_data, val_data, test_data"
   ]
  },
  {
   "cell_type": "code",
   "execution_count": 5,
   "id": "1525cbed",
   "metadata": {},
   "outputs": [],
   "source": [
    "train_data = torch.load('../data/movielens/train.pt')\n",
    "val_data = torch.load('../data/movielens/test.pt')"
   ]
  },
  {
   "cell_type": "code",
   "execution_count": 16,
   "id": "5041df54",
   "metadata": {},
   "outputs": [
    {
     "data": {
      "text/plain": [
       "HeteroData(\n",
       "  movie={ x=[9742, 404] },\n",
       "  user={ num_nodes=610 },\n",
       "  (user, rates, movie)={\n",
       "    edge_index=[2, 56469],\n",
       "    edge_label=[24201],\n",
       "    edge_label_index=[2, 24201],\n",
       "  },\n",
       "  (movie, rev_rates, user)={ edge_index=[2, 56469] }\n",
       ")"
      ]
     },
     "execution_count": 16,
     "metadata": {},
     "output_type": "execute_result"
    }
   ],
   "source": [
    "train_data"
   ]
  },
  {
   "cell_type": "markdown",
   "id": "ef2d596d",
   "metadata": {},
   "source": [
    "## Make 2 graphs"
   ]
  },
  {
   "cell_type": "code",
   "execution_count": 6,
   "id": "7e7ad4a3",
   "metadata": {},
   "outputs": [],
   "source": [
    "G_main = to_networkx(train_data)"
   ]
  },
  {
   "cell_type": "code",
   "execution_count": 7,
   "id": "c9df8da6",
   "metadata": {},
   "outputs": [],
   "source": [
    "G_train = to_networkx(val_data)"
   ]
  },
  {
   "cell_type": "markdown",
   "id": "a553e289",
   "metadata": {},
   "source": [
    "## Evaluation"
   ]
  },
  {
   "cell_type": "markdown",
   "id": "b2b3b4a7",
   "metadata": {},
   "source": [
    "#### For each user, run personalised page rank on the main dgraph and compare it with the edges in the validation graph."
   ]
  },
  {
   "cell_type": "code",
   "execution_count": 8,
   "id": "c47fea48",
   "metadata": {},
   "outputs": [],
   "source": [
    "users = val_data['user', 'rates', 'movie'].edge_index[0]\n",
    "corr_edges = val_data['user', 'rates', 'movie'].edge_index[1]"
   ]
  },
  {
   "cell_type": "code",
   "execution_count": 9,
   "id": "285e7d54",
   "metadata": {},
   "outputs": [],
   "source": [
    "def get_auc_user(users, corr_edges, user):\n",
    "    ## Actual movies\n",
    "    movies_actual = np.zeros(9742)\n",
    "    ct = 0\n",
    "    for i in range(0, len(users)):\n",
    "        if users[i] == user:\n",
    "            movies_actual[corr_edges[i]] = 1\n",
    "            ct+=1\n",
    "    ## Pred movies   \n",
    "    ppr = nx.pagerank(G_main, personalization={user:1})\n",
    "    ppr = sorted(ppr.items(), key=operator.itemgetter(1), reverse=True)\n",
    "    i = 0\n",
    "    movies_pred = np.zeros(9742)\n",
    "    for item, score in ppr:\n",
    "        if item >= 610 and i < ct:\n",
    "            movies_pred[item-610] = 1\n",
    "            i+=1\n",
    "            \n",
    "    auc = roc_auc_score(movies_actual, movies_pred)\n",
    "            \n",
    "    return auc, movies_actual, movies_pred"
   ]
  },
  {
   "cell_type": "code",
   "execution_count": 10,
   "id": "f3851634",
   "metadata": {},
   "outputs": [],
   "source": [
    "def get_average_auc():\n",
    "    \n",
    "    actual_total = []\n",
    "    pred_total = []\n",
    "    \n",
    "    auc = 0\n",
    "    \n",
    "    for i in range(0, 609):\n",
    "        \n",
    "        temp_1, temp_2, temp_3 = get_auc_user(users, corr_edges, i)\n",
    "        \n",
    "        auc += temp_1\n",
    "        actual_total += list(temp_2)\n",
    "        pred_total += list(temp_3)\n",
    "    \n",
    "    return float(auc / 610), actual_total, pred_total"
   ]
  },
  {
   "cell_type": "code",
   "execution_count": 11,
   "id": "2fcac967",
   "metadata": {},
   "outputs": [],
   "source": [
    "auc, actual_total, pred_total = get_average_auc()"
   ]
  },
  {
   "cell_type": "code",
   "execution_count": 14,
   "id": "ae269b44",
   "metadata": {},
   "outputs": [
    {
     "data": {
      "image/png": "[encoded data removed]",
      "text/plain": [
       "<Figure size 640x480 with 1 Axes>"
      ]
     },
     "metadata": {},
     "output_type": "display_data"
    }
   ],
   "source": [
    "import matplotlib.pyplot as plt\n",
    "import numpy as np\n",
    "from sklearn import metrics\n",
    "y = np.array([0, 0, 1, 1])\n",
    "pred = np.array([0.1, 0.4, 0.35, 0.8])\n",
    "fpr, tpr, thresholds = metrics.roc_curve(actual_total, pred_total)\n",
    "roc_auc = metrics.auc(fpr, tpr)\n",
    "display = metrics.RocCurveDisplay(fpr=fpr, tpr=tpr, roc_auc=roc_auc,\n",
    "                                  )\n",
    "display.plot()\n",
    "plt.title(\"ROC(Movielens, Personalised Page Rank)\")\n",
    "\n",
    "plt.show()"
   ]
  },
  {
   "cell_type": "code",
   "execution_count": 15,
   "id": "af7c2299",
   "metadata": {},
   "outputs": [
    {
     "data": {
      "image/png": "[encoded data removed]",
      "text/plain": [
       "<Figure size 640x480 with 1 Axes>"
      ]
     },
     "metadata": {},
     "output_type": "display_data"
    }
   ],
   "source": [
    "import matplotlib.pyplot as plt\n",
    "import numpy as np\n",
    "from sklearn import metrics\n",
    "y = np.array([0, 0, 1, 1])\n",
    "pred = np.array([0.1, 0.4, 0.35, 0.8])\n",
    "precision, recall, thresholds = precision_recall_curve(actual_total, pred_total)\n",
    "plt.fill_between(recall, precision)\n",
    "plt.ylabel(\"Precision\")\n",
    "plt.xlabel(\"Recall\")\n",
    "plt.title(\"Precision-Recall Curve(Movielens, Personalised Page Rank)\")\n",
    "\n",
    "plt.show()"
   ]
  }
 ],
 "metadata": {
  "kernelspec": {
   "display_name": "Python 3 (ipykernel)",
   "language": "python",
   "name": "python3"
  },
  "language_info": {
   "codemirror_mode": {
    "name": "ipython",
    "version": 3
   },
   "file_extension": ".py",
   "mimetype": "text/x-python",
   "name": "python",
   "nbconvert_exporter": "python",
   "pygments_lexer": "ipython3",
   "version": "3.9.7"
  }
 },
 "nbformat": 4,
 "nbformat_minor": 5
}
